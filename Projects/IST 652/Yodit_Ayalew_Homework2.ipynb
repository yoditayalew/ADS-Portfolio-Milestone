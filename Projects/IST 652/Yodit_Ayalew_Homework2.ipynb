{
 "cells": [
  {
   "cell_type": "code",
   "execution_count": 1,
   "metadata": {},
   "outputs": [],
   "source": [
    "# Homework2_Semistructured data -----YODIT AYALEW\n",
    "#Imported Libraries\n",
    "import pandas as pd\n",
    "import numpy as np\n",
    "import json \n",
    "import ijson\n",
    "import datetime\n",
    "import matplotlib.pyplot as plt"
   ]
  },
  {
   "cell_type": "code",
   "execution_count": 2,
   "metadata": {},
   "outputs": [
    {
     "name": "stdout",
     "output_type": "stream",
     "text": [
      "{\n",
      "  \"meta\" : {\n",
      "    \"view\" : {\n",
      "      \"id\" : \"4mse-ku6q\",\n",
      "      \"name\" : \"Traffic Violations\",\n",
      "      \"assetType\" : \"dataset\",\n",
      "      \"averageRating\" : 0,\n",
      "      \"category\" : \"Public Safety\",\n",
      "      \"createdAt\" : 1403103517,\n",
      "      \"description\" : \"This dataset contains traffic violation information from all electronic traffic violations issued in the County.  Any information that can be used to uniquely identify the vehicle, the vehicle owner or the officer issuing the violation will not be published.\\r\\n\\r\\nUpdate Frequency:  Daily\",\n"
     ]
    }
   ],
   "source": [
    "#Opening Marlynad traiifc JSON file & \n",
    "#Reading first few lines from JSON file to get clue about the data\n",
    "filename = \"C:\\IST 652\\marylandtraffic.json\"\n",
    "N = 10\n",
    "with open(filename, 'r') as f:\n",
    "     for i in range(0, N):\n",
    "           print(f.readline(), end = '')"
   ]
  },
  {
   "cell_type": "code",
   "execution_count": 3,
   "metadata": {},
   "outputs": [
    {
     "name": "stdout",
     "output_type": "stream",
     "text": [
      "{'id': -1, 'name': 'sid', 'dataTypeName': 'meta_data', 'fieldName': ':sid', 'position': 0, 'renderTypeName': 'meta_data', 'format': {}, 'flags': ['hidden']}\n"
     ]
    }
   ],
   "source": [
    "#exploring columns and printing the first \n",
    "#ijson  iteratively parse the json file instead of reading it all in at once. \n",
    "with open(filename, 'r') as f:\n",
    "    objects = ijson.items(f, 'meta.view.columns.item')\n",
    "    columns = list(objects)\n",
    "print(columns[0])"
   ]
  },
  {
   "cell_type": "code",
   "execution_count": 4,
   "metadata": {},
   "outputs": [
    {
     "data": {
      "text/plain": [
       "[':sid',\n",
       " ':id',\n",
       " ':position',\n",
       " ':created_at',\n",
       " ':created_meta',\n",
       " ':updated_at',\n",
       " ':updated_meta',\n",
       " ':meta',\n",
       " 'seq_id',\n",
       " 'date_of_stop',\n",
       " 'time_of_stop',\n",
       " 'agency',\n",
       " 'subagency',\n",
       " 'description',\n",
       " 'location',\n",
       " 'latitude',\n",
       " 'longitude',\n",
       " 'accident',\n",
       " 'belts',\n",
       " 'personal_injury',\n",
       " 'property_damage',\n",
       " 'fatal',\n",
       " 'commercial_license',\n",
       " 'hazmat',\n",
       " 'commercial_vehicle',\n",
       " 'alcohol',\n",
       " 'work_zone',\n",
       " 'search_conducted',\n",
       " 'search_disposition',\n",
       " 'search_outcome',\n",
       " 'search_reason',\n",
       " 'search_reason_for_stop',\n",
       " 'search_type',\n",
       " 'search_arrest_reason',\n",
       " 'state',\n",
       " 'vehicle_type',\n",
       " 'year',\n",
       " 'make',\n",
       " 'model',\n",
       " 'color',\n",
       " 'violation_type',\n",
       " 'charge',\n",
       " 'article',\n",
       " 'contributed_to_accident',\n",
       " 'race',\n",
       " 'gender',\n",
       " 'driver_city',\n",
       " 'driver_state',\n",
       " 'dl_state',\n",
       " 'arrest_type',\n",
       " ':@computed_region_vu5j_pcmz',\n",
       " 'geolocation',\n",
       " ':@computed_region_tx5f_5em3',\n",
       " ':@computed_region_kbsp_ykn9',\n",
       " ':@computed_region_d7bw_bq6x',\n",
       " ':@computed_region_rbt8_3x7n']"
      ]
     },
     "execution_count": 4,
     "metadata": {},
     "output_type": "execute_result"
    }
   ],
   "source": [
    "#getting column names based on above output, extract the fieldName key from each item in columns\n",
    "column_names = [col[\"fieldName\"] for col in columns]\n",
    "column_names"
   ]
  },
  {
   "cell_type": "code",
   "execution_count": 5,
   "metadata": {},
   "outputs": [],
   "source": [
    "#As there are many columns, the below are selected and defined for  the purpose of this project\n",
    "selected_columns = [\n",
    "    \"date_of_stop\",\n",
    "    \"time_of_stop\",\n",
    "    \"agency\",\n",
    "    \"subagency\",\n",
    "    \"description\",\n",
    "    \"location\",\n",
    "    \"latitude\",\n",
    "    \"longitude\",\n",
    "    \"vehicle_type\",\n",
    "    \"year\",\n",
    "    \"make\",\n",
    "    \"model\",\n",
    "    \"color\",\n",
    "    \"violation_type\",\n",
    "    \"race\",\n",
    "    \"gender\",\n",
    "    \"driver_state\",\n",
    "    \"driver_city\",\n",
    "    \"dl_state\",\n",
    "    \"arrest_type\"]\n",
    "trafficdata = []\n",
    "with open(filename, 'r') as f:\n",
    "    objects = ijson.items(f, 'data.item')\n",
    "    for row in objects:\n",
    "        selected_row = []\n",
    "        for item in selected_columns:\n",
    "            selected_row.append(row[column_names.index(item)])\n",
    "            trafficdata.append(selected_row)"
   ]
  },
  {
   "cell_type": "code",
   "execution_count": 6,
   "metadata": {},
   "outputs": [
    {
     "data": {
      "text/plain": [
       "['2019-08-11T00:00:00',\n",
       " '20:02:00',\n",
       " 'MCP',\n",
       " '2nd District, Bethesda',\n",
       " 'LEAVING UNATTENDED VEH. W/O STOPPING ENGINE, LOCKING IGNITION, REMOVING KEY & SETTING BRAKE',\n",
       " 'CORDELL ST @ NORFOLK AVE.',\n",
       " '38.9897433333333',\n",
       " '-77.09777',\n",
       " '02 - Automobile',\n",
       " '2016',\n",
       " 'TOYOTA',\n",
       " 'CAMRY',\n",
       " 'SILVER',\n",
       " 'Citation',\n",
       " 'BLACK',\n",
       " 'M',\n",
       " 'MD',\n",
       " 'SILVER SPRING',\n",
       " 'MD',\n",
       " 'A - Marked Patrol']"
      ]
     },
     "execution_count": 6,
     "metadata": {},
     "output_type": "execute_result"
    }
   ],
   "source": [
    "#printing the first item for checking\n",
    "trafficdata[0]"
   ]
  },
  {
   "cell_type": "code",
   "execution_count": 7,
   "metadata": {},
   "outputs": [],
   "source": [
    "#Reading the JSON file data into Pandas Dataframe\n",
    "trafficdata = pd.DataFrame(trafficdata, columns=selected_columns)"
   ]
  },
  {
   "cell_type": "code",
   "execution_count": 8,
   "metadata": {},
   "outputs": [
    {
     "data": {
      "text/plain": [
       "BLACK          594500\n",
       "SILVER         501580\n",
       "WHITE          454860\n",
       "GRAY           326000\n",
       "RED            225220\n",
       "BLUE           222380\n",
       "GREEN          108900\n",
       "GOLD            86700\n",
       "BLUE, DARK      64400\n",
       "TAN             57700\n",
       "MAROON          52360\n",
       "GREEN, DK       36040\n",
       "BLUE, LIGHT     35920\n",
       "BEIGE           33020\n",
       "N/A             24100\n",
       "GREEN, LGT      17320\n",
       "BROWN           14520\n",
       "YELLOW          12180\n",
       "ORANGE          11380\n",
       "PURPLE           5680\n",
       "BRONZE           5580\n",
       "MULTICOLOR       2140\n",
       "CREAM            1900\n",
       "PINK              600\n",
       "COPPER            580\n",
       "CAMOUFLAGE        160\n",
       "CHROME             40\n",
       "Name: color, dtype: int64"
      ]
     },
     "execution_count": 8,
     "metadata": {},
     "output_type": "execute_result"
    }
   ],
   "source": [
    "#Analysis one - lets check number of vehicle count per color\n",
    "trafficdata[\"color\"].value_counts()"
   ]
  },
  {
   "cell_type": "code",
   "execution_count": 9,
   "metadata": {},
   "outputs": [
    {
     "data": {
      "text/plain": [
       "A - Marked Patrol                         2332160\n",
       "Q - Marked Laser                           352420\n",
       "B - Unmarked Patrol                         93060\n",
       "E - Marked Stationary Radar                 24160\n",
       "G - Marked Moving Radar (Stationary)        20240\n",
       "S - License Plate Recognition               16300\n",
       "R - Unmarked Laser                          16220\n",
       "M - Marked (Off-Duty)                       12440\n",
       "O - Foot Patrol                              9200\n",
       "L - Motorcycle                               8280\n",
       "H - Unmarked Moving Radar (Stationary)       5580\n",
       "I - Marked Moving Radar (Moving)             4080\n",
       "C - Marked VASCAR                            2880\n",
       "J - Unmarked Moving Radar (Moving)           2300\n",
       "F - Unmarked Stationary Radar                1860\n",
       "D - Unmarked VASCAR                           940\n",
       "N - Unmarked (Off-Duty)                       840\n",
       "P - Mounted Patrol                            480\n",
       "K - Aircraft Assist                            80\n",
       "Name: arrest_type, dtype: int64"
      ]
     },
     "execution_count": 9,
     "metadata": {},
     "output_type": "execute_result"
    }
   ],
   "source": [
    "#Analysis 2: per arrest type\n",
    "trafficdata[\"arrest_type\"].value_counts()"
   ]
  },
  {
   "cell_type": "code",
   "execution_count": 10,
   "metadata": {},
   "outputs": [],
   "source": [
    "#Analysis 3- based on  time\n",
    "#time of day and the date of the stop are stored in two separate columns, time_of_stop, and date_of_stop. \n",
    "#parse both columns, and turn them into a single datetime column\n",
    "def parse_full_date(row):\n",
    "    date = datetime.datetime.strptime(row[\"date_of_stop\"], \"%Y-%m-%dT%H:%M:%S\")\n",
    "    time = row[\"time_of_stop\"].split(\":\")\n",
    "    date = date.replace(hour=int(time[0]), minute = int(time[1]), second = int(time[2]))\n",
    "    return date\n",
    "trafficdata[\"date\"] = trafficdata.apply(parse_full_date, axis=1)"
   ]
  },
  {
   "cell_type": "code",
   "execution_count": 11,
   "metadata": {},
   "outputs": [
    {
     "data": {
      "text/plain": [
       "(array([378520., 478460., 443440., 424860., 440880., 737360.]),\n",
       " array([0., 1., 2., 3., 4., 5., 6.]),\n",
       " <a list of 6 Patch objects>)"
      ]
     },
     "execution_count": 11,
     "metadata": {},
     "output_type": "execute_result"
    },
    {
     "data": {
      "image/png": "[encoded data removed]",
      "text/plain": [
       "<Figure size 432x288 with 1 Axes>"
      ]
     },
     "metadata": {},
     "output_type": "display_data"
    }
   ],
   "source": [
    "#plot of which days result in the most traffic stops:\n",
    "\n",
    "plt.hist(trafficdata[\"date\"].dt.weekday, bins=6)\n"
   ]
  },
  {
   "cell_type": "code",
   "execution_count": 12,
   "metadata": {},
   "outputs": [
    {
     "data": {
      "text/plain": [
       "(array([139220., 117860.,  98620.,  70540.,  43040.,  39380.,  49420.,\n",
       "        100020., 145480., 144900., 151800., 133680., 120480., 121560.,\n",
       "        126480., 113920., 155460., 162900., 129320., 107160., 116940.,\n",
       "        142680., 186460., 186200.]),\n",
       " array([ 0.        ,  0.95833333,  1.91666667,  2.875     ,  3.83333333,\n",
       "         4.79166667,  5.75      ,  6.70833333,  7.66666667,  8.625     ,\n",
       "         9.58333333, 10.54166667, 11.5       , 12.45833333, 13.41666667,\n",
       "        14.375     , 15.33333333, 16.29166667, 17.25      , 18.20833333,\n",
       "        19.16666667, 20.125     , 21.08333333, 22.04166667, 23.        ]),\n",
       " <a list of 24 Patch objects>)"
      ]
     },
     "execution_count": 12,
     "metadata": {},
     "output_type": "execute_result"
    },
    {
     "data": {
      "image/png": "[encoded data removed]",
      "text/plain": [
       "<Figure size 432x288 with 1 Axes>"
      ]
     },
     "metadata": {},
     "output_type": "display_data"
    }
   ],
   "source": [
    "# plot out the most common traffic stop times:\n",
    "plt.hist(trafficdata[\"date\"].dt.hour, bins=24)"
   ]
  },
  {
   "cell_type": "code",
   "execution_count": 13,
   "metadata": {},
   "outputs": [
    {
     "name": "stdout",
     "output_type": "stream",
     "text": [
      "(725840, 21)\n"
     ]
    }
   ],
   "source": [
    "#filtering stops data based on date \n",
    "last_year =trafficdata[trafficdata[\"date\"] > datetime.datetime(year=2020, month=1, day=1)]\n",
    "print(last_year.shape)"
   ]
  },
  {
   "cell_type": "code",
   "execution_count": 14,
   "metadata": {},
   "outputs": [
    {
     "name": "stdout",
     "output_type": "stream",
     "text": [
      "(96740, 21)\n"
     ]
    }
   ],
   "source": [
    "#Stops during  rush hour since last year \n",
    "morning_rush = last_year[(last_year[\"date\"].dt.weekday < 5) & (last_year[\"date\"].dt.hour > 5) & (last_year[\"date\"].dt.hour < 10)]\n",
    "print(morning_rush.shape) "
   ]
  },
  {
   "cell_type": "code",
   "execution_count": 15,
   "metadata": {},
   "outputs": [
    {
     "data": {
      "text/plain": [
       "M    2009460\n",
       "F     889220\n",
       "U       4840\n",
       "Name: gender, dtype: int64"
      ]
     },
     "execution_count": 15,
     "metadata": {},
     "output_type": "execute_result"
    }
   ],
   "source": [
    "#Analysis 4 - lets check number of stops count per gender\n",
    "trafficdata[\"gender\"].value_counts()"
   ]
  },
  {
   "cell_type": "code",
   "execution_count": 16,
   "metadata": {},
   "outputs": [
    {
     "data": {
      "text/plain": [
       "(array([2009460.,       0.,       0.,       0.,       0.,       0.,\n",
       "              0.,       0.,       0.,       0.,       0.,       0.,\n",
       "         889220.,       0.,       0.,       0.,       0.,       0.,\n",
       "              0.,       0.,       0.,       0.,       0.,    4840.]),\n",
       " array([0.        , 0.08333333, 0.16666667, 0.25      , 0.33333333,\n",
       "        0.41666667, 0.5       , 0.58333333, 0.66666667, 0.75      ,\n",
       "        0.83333333, 0.91666667, 1.        , 1.08333333, 1.16666667,\n",
       "        1.25      , 1.33333333, 1.41666667, 1.5       , 1.58333333,\n",
       "        1.66666667, 1.75      , 1.83333333, 1.91666667, 2.        ]),\n",
       " <a list of 24 Patch objects>)"
      ]
     },
     "execution_count": 16,
     "metadata": {},
     "output_type": "execute_result"
    },
    {
     "data": {
      "image/png": "[encoded data removed]",
      "text/plain": [
       "<Figure size 432x288 with 1 Axes>"
      ]
     },
     "metadata": {},
     "output_type": "display_data"
    }
   ],
   "source": [
    "# plot out the most common traffic stop times:\n",
    "plt.hist(trafficdata[\"gender\"], bins=24)"
   ]
  },
  {
   "cell_type": "code",
   "execution_count": 17,
   "metadata": {},
   "outputs": [
    {
     "data": {
      "text/plain": [
       "Citation    2378200\n",
       "Warning      501120\n",
       "ESERO         24200\n",
       "Name: violation_type, dtype: int64"
      ]
     },
     "execution_count": 17,
     "metadata": {},
     "output_type": "execute_result"
    }
   ],
   "source": [
    "#Analysis-5- Voilation Type  \n",
    "\n",
    "trafficdata[\"violation_type\"].value_counts()"
   ]
  },
  {
   "cell_type": "code",
   "execution_count": 18,
   "metadata": {},
   "outputs": [
    {
     "data": {
      "text/plain": [
       "(array([2378200.,       0.,       0.,       0.,       0.,       0.,\n",
       "              0.,       0.,       0.,       0.,       0.,       0.,\n",
       "         501120.,       0.,       0.,       0.,       0.,       0.,\n",
       "              0.,       0.,       0.,       0.,       0.,   24200.]),\n",
       " array([0.        , 0.08333333, 0.16666667, 0.25      , 0.33333333,\n",
       "        0.41666667, 0.5       , 0.58333333, 0.66666667, 0.75      ,\n",
       "        0.83333333, 0.91666667, 1.        , 1.08333333, 1.16666667,\n",
       "        1.25      , 1.33333333, 1.41666667, 1.5       , 1.58333333,\n",
       "        1.66666667, 1.75      , 1.83333333, 1.91666667, 2.        ]),\n",
       " <a list of 24 Patch objects>)"
      ]
     },
     "execution_count": 18,
     "metadata": {},
     "output_type": "execute_result"
    },
    {
     "data": {
      "image/png": "[encoded data removed]",
      "text/plain": [
       "<Figure size 432x288 with 1 Axes>"
      ]
     },
     "metadata": {},
     "output_type": "display_data"
    }
   ],
   "source": [
    "# plot out the most common voilation types:\n",
    "plt.hist(trafficdata[\"violation_type\"], bins=24)"
   ]
  }
 ],
 "metadata": {
  "kernelspec": {
   "display_name": "Python 3",
   "language": "python",
   "name": "python3"
  },
  "language_info": {
   "codemirror_mode": {
    "name": "ipython",
    "version": 3
   },
   "file_extension": ".py",
   "mimetype": "text/x-python",
   "name": "python",
   "nbconvert_exporter": "python",
   "pygments_lexer": "ipython3",
   "version": "3.6.4"
  }
 },
 "nbformat": 4,
 "nbformat_minor": 2
}
