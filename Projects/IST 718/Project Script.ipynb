{
  "nbformat": 4,
  "nbformat_minor": 0,
  "metadata": {
    "colab": {
      "name": "Group2_Project.ipynb",
      "provenance": [],
      "collapsed_sections": []
    },
    "kernelspec": {
      "name": "python3",
      "display_name": "Python 3"
    },
    "language_info": {
      "name": "python"
    }
  },
  "cells": [
    {
      "cell_type": "code",
      "metadata": {
        "id": "p2kw7OH1UzyU"
      },
      "source": [
        "import pandas as pd\n",
        "import numpy as np\n",
        "import requests\n",
        "import calendar\n",
        "import seaborn as sns\n",
        "import matplotlib.pyplot as plt\n",
        "import sklearn\n",
        "from datetime import datetime\n",
        "from scipy.stats import norm\n",
        "from scipy.sparse import csr_matrix\n",
        "from sklearn.decomposition import TruncatedSVD\n",
        "from sklearn.neighbors import NearestNeighbors\n",
        "from sklearn.metrics.pairwise import cosine_similarity\n",
        "from sklearn.metrics import mean_squared_error\n",
        "from sklearn.model_selection import train_test_split\n",
        "from sklearn.feature_extraction.text import TfidfVectorizer\n",
        "from sklearn.metrics.pairwise import linear_kernel\n",
        "import operator\n",
        "import progressbar as pb\n",
        "import statistics"
      ],
      "execution_count": null,
      "outputs": []
    },
    {
      "cell_type": "code",
      "metadata": {
        "colab": {
          "base_uri": "https://localhost:8080/"
        },
        "id": "hu3HuBGMBHC4",
        "outputId": "982a0bae-c366-4d78-c3a0-85cf259fe81b"
      },
      "source": [
        "!pip install surprise"
      ],
      "execution_count": null,
      "outputs": [
        {
          "output_type": "stream",
          "name": "stdout",
          "text": [
            "Collecting surprise\n",
            "  Downloading surprise-0.1-py2.py3-none-any.whl (1.8 kB)\n",
            "Collecting scikit-surprise\n",
            "  Downloading scikit-surprise-1.1.1.tar.gz (11.8 MB)\n",
            "\u001b[K     |████████████████████████████████| 11.8 MB 4.1 MB/s \n",
            "\u001b[?25hRequirement already satisfied: joblib>=0.11 in /usr/local/lib/python3.7/dist-packages (from scikit-surprise->surprise) (1.0.1)\n",
            "Requirement already satisfied: numpy>=1.11.2 in /usr/local/lib/python3.7/dist-packages (from scikit-surprise->surprise) (1.19.5)\n",
            "Requirement already satisfied: scipy>=1.0.0 in /usr/local/lib/python3.7/dist-packages (from scikit-surprise->surprise) (1.4.1)\n",
            "Requirement already satisfied: six>=1.10.0 in /usr/local/lib/python3.7/dist-packages (from scikit-surprise->surprise) (1.15.0)\n",
            "Building wheels for collected packages: scikit-surprise\n",
            "  Building wheel for scikit-surprise (setup.py) ... \u001b[?25l\u001b[?25hdone\n",
            "  Created wheel for scikit-surprise: filename=scikit_surprise-1.1.1-cp37-cp37m-linux_x86_64.whl size=1619420 sha256=012c0fea049f3eb7b55d0bfa7019fc57360c26c4fb2f20973312bed44d524b56\n",
            "  Stored in directory: /root/.cache/pip/wheels/76/44/74/b498c42be47b2406bd27994e16c5188e337c657025ab400c1c\n",
            "Successfully built scikit-surprise\n",
            "Installing collected packages: scikit-surprise, surprise\n",
            "Successfully installed scikit-surprise-1.1.1 surprise-0.1\n"
          ]
        }
      ]
    },
    {
      "cell_type": "code",
      "metadata": {
        "id": "MNw_G3fknnzG",
        "colab": {
          "base_uri": "https://localhost:8080/",
          "height": 734
        },
        "outputId": "0c7e3888-d36a-452e-c2b4-a5de733a044a"
      },
      "source": [
        "# Create Pandas Dataframe\n",
        "books_df = pd.read_csv(r\"/content/booksdf_project.csv\")\n",
        "books_df.head()"
      ],
      "execution_count": null,
      "outputs": [
        {
          "output_type": "execute_result",
          "data": {
            "text/html": [
              "<div>\n",
              "<style scoped>\n",
              "    .dataframe tbody tr th:only-of-type {\n",
              "        vertical-align: middle;\n",
              "    }\n",
              "\n",
              "    .dataframe tbody tr th {\n",
              "        vertical-align: top;\n",
              "    }\n",
              "\n",
              "    .dataframe thead th {\n",
              "        text-align: right;\n",
              "    }\n",
              "</style>\n",
              "<table border=\"1\" class=\"dataframe\">\n",
              "  <thead>\n",
              "    <tr style=\"text-align: right;\">\n",
              "      <th></th>\n",
              "      <th>book_id</th>\n",
              "      <th>title</th>\n",
              "      <th>authors</th>\n",
              "      <th>average_rating</th>\n",
              "      <th>language_code</th>\n",
              "      <th>num_pages</th>\n",
              "      <th>ratings_count</th>\n",
              "      <th>text_reviews_count</th>\n",
              "      <th>publication_date</th>\n",
              "      <th>publisher</th>\n",
              "      <th>publication_month</th>\n",
              "      <th>publication_day</th>\n",
              "      <th>publication_year</th>\n",
              "    </tr>\n",
              "  </thead>\n",
              "  <tbody>\n",
              "    <tr>\n",
              "      <th>0</th>\n",
              "      <td>1</td>\n",
              "      <td>Harry Potter and the Half-Blood Prince (Harry ...</td>\n",
              "      <td>J.K. Rowling/Mary GrandPré</td>\n",
              "      <td>4.57</td>\n",
              "      <td>eng</td>\n",
              "      <td>652</td>\n",
              "      <td>2095690</td>\n",
              "      <td>27591</td>\n",
              "      <td>2006-09-16</td>\n",
              "      <td>Scholastic Inc.</td>\n",
              "      <td>September</td>\n",
              "      <td>Saturday</td>\n",
              "      <td>2006</td>\n",
              "    </tr>\n",
              "    <tr>\n",
              "      <th>1</th>\n",
              "      <td>2</td>\n",
              "      <td>Harry Potter and the Order of the Phoenix (Har...</td>\n",
              "      <td>J.K. Rowling/Mary GrandPré</td>\n",
              "      <td>4.49</td>\n",
              "      <td>eng</td>\n",
              "      <td>870</td>\n",
              "      <td>2153167</td>\n",
              "      <td>29221</td>\n",
              "      <td>2004-09-01</td>\n",
              "      <td>Scholastic Inc.</td>\n",
              "      <td>September</td>\n",
              "      <td>Wednesday</td>\n",
              "      <td>2004</td>\n",
              "    </tr>\n",
              "    <tr>\n",
              "      <th>2</th>\n",
              "      <td>4</td>\n",
              "      <td>Harry Potter and the Chamber of Secrets (Harry...</td>\n",
              "      <td>J.K. Rowling</td>\n",
              "      <td>4.42</td>\n",
              "      <td>eng</td>\n",
              "      <td>352</td>\n",
              "      <td>6333</td>\n",
              "      <td>244</td>\n",
              "      <td>2003-11-01</td>\n",
              "      <td>Scholastic</td>\n",
              "      <td>November</td>\n",
              "      <td>Saturday</td>\n",
              "      <td>2003</td>\n",
              "    </tr>\n",
              "    <tr>\n",
              "      <th>3</th>\n",
              "      <td>5</td>\n",
              "      <td>Harry Potter and the Prisoner of Azkaban (Harr...</td>\n",
              "      <td>J.K. Rowling/Mary GrandPré</td>\n",
              "      <td>4.56</td>\n",
              "      <td>eng</td>\n",
              "      <td>435</td>\n",
              "      <td>2339585</td>\n",
              "      <td>36325</td>\n",
              "      <td>2004-05-01</td>\n",
              "      <td>Scholastic Inc.</td>\n",
              "      <td>May</td>\n",
              "      <td>Saturday</td>\n",
              "      <td>2004</td>\n",
              "    </tr>\n",
              "    <tr>\n",
              "      <th>4</th>\n",
              "      <td>8</td>\n",
              "      <td>Harry Potter Boxed Set  Books 1-5 (Harry Potte...</td>\n",
              "      <td>J.K. Rowling/Mary GrandPré</td>\n",
              "      <td>4.78</td>\n",
              "      <td>eng</td>\n",
              "      <td>2690</td>\n",
              "      <td>41428</td>\n",
              "      <td>164</td>\n",
              "      <td>2004-09-13</td>\n",
              "      <td>Scholastic</td>\n",
              "      <td>September</td>\n",
              "      <td>Monday</td>\n",
              "      <td>2004</td>\n",
              "    </tr>\n",
              "  </tbody>\n",
              "</table>\n",
              "</div>"
            ],
            "text/plain": [
              "   book_id  ... publication_year\n",
              "0        1  ...             2006\n",
              "1        2  ...             2004\n",
              "2        4  ...             2003\n",
              "3        5  ...             2004\n",
              "4        8  ...             2004\n",
              "\n",
              "[5 rows x 13 columns]"
            ]
          },
          "metadata": {},
          "execution_count": 4
        }
      ]
    },
    {
      "cell_type": "markdown",
      "metadata": {
        "id": "-xBiSmRKst0a"
      },
      "source": [
        "**<h2>EDA</h2>**"
      ]
    },
    {
      "cell_type": "code",
      "metadata": {
        "colab": {
          "base_uri": "https://localhost:8080/"
        },
        "id": "jidQx3jDs7HZ",
        "outputId": "5fb8452d-2804-4306-ca19-1f82a58588b0"
      },
      "source": [
        "#Books data set observations\n",
        "book_count = books_df.shape[0]\n",
        "ratings_on_books = books_df['ratings_count'].sum()\n",
        "most_ratings = books_df.iloc[books_df['ratings_count'].idxmax()]\n",
        "fewest_ratings = books_df.iloc[books_df['ratings_count'].idxmin()]\n",
        "\n",
        "highest_average_rating = books_df.iloc[books_df['average_rating'].idxmax()]\n",
        "lowest_average_rating = books_df.iloc[books_df['average_rating'].idxmin()]\n",
        "\n",
        "print('Total number of books in dataset: %s' % \"{:,}\".format(book_count))\n",
        "print('Total number of ratings on books in dataset: %s' % \"{:,}\".format(ratings_on_books))\n",
        "print('Book with most ratings: %s with %s ratings' % (most_ratings['title'], \"{:,}\".format(most_ratings['ratings_count'])))\n",
        "print('Book with fewest ratings: %s with %s ratings' % (fewest_ratings['title'], \"{:,}\".format(fewest_ratings['ratings_count'])))\n",
        "print('Book with highest average rating: %s with %s average' % (highest_average_rating['title'], highest_average_rating['average_rating']))\n",
        "print('Book with lowest average rating: %s with %s average' % (lowest_average_rating['title'], lowest_average_rating['average_rating']))"
      ],
      "execution_count": null,
      "outputs": [
        {
          "output_type": "stream",
          "name": "stdout",
          "text": [
            "Total number of books in dataset: 10,000\n",
            "Total number of ratings on books in dataset: 176,953,301\n",
            "Book with most ratings: Twilight (Twilight  #1) with 4,597,666 ratings\n",
            "Book with fewest ratings: Lonely Planet Londres with 0 ratings\n",
            "Book with highest average rating: Comoediae 1: Acharenses/Equites/Nubes/Vespae/Pax/Aves with 5.0 average\n",
            "Book with lowest average rating: Out to Eat London 2002 (Lonely Planet Out to Eat) with 0.0 average\n"
          ]
        }
      ]
    },
    {
      "cell_type": "code",
      "metadata": {
        "id": "4NzurYwXnxJx",
        "colab": {
          "base_uri": "https://localhost:8080/"
        },
        "outputId": "9814a8cc-54dd-4753-ba8d-3327484c03a5"
      },
      "source": [
        "# Inspect datatypes\n",
        "books_df.dtypes"
      ],
      "execution_count": null,
      "outputs": [
        {
          "output_type": "execute_result",
          "data": {
            "text/plain": [
              "book_id                 int64\n",
              "title                  object\n",
              "authors                object\n",
              "average_rating        float64\n",
              "language_code          object\n",
              "num_pages               int64\n",
              "ratings_count           int64\n",
              "text_reviews_count      int64\n",
              "publication_date       object\n",
              "publisher              object\n",
              "publication_month      object\n",
              "publication_day        object\n",
              "publication_year        int64\n",
              "dtype: object"
            ]
          },
          "metadata": {},
          "execution_count": 4
        }
      ]
    },
    {
      "cell_type": "code",
      "metadata": {
        "id": "iWJIeiO-tW_2",
        "colab": {
          "base_uri": "https://localhost:8080/",
          "height": 633
        },
        "outputId": "97d2ecdd-2481-4fec-8dcf-d6798dcdc82f"
      },
      "source": [
        "# Correlation Matrix\n",
        "plt.figure(figsize=(10,8))\n",
        "sns.set(font_scale=1.25) \n",
        "corr_plt = sns.heatmap(\n",
        "    books_df.corr(), \n",
        "    vmin = -1, \n",
        "    vmax = 1, \n",
        "    center = 0, \n",
        "    annot = True, \n",
        "    #cmap = 'mako',\n",
        "    cmap=sns.diverging_palette(20, 220, n=200),\n",
        "    square = True\n",
        ")\n",
        "corr_plt.axes.set_title(\"Heatmap - Books\", fontsize=25)\n",
        "plt.savefig('heatmap.png', bbox_inches=\"tight\")"
      ],
      "execution_count": null,
      "outputs": [
        {
          "output_type": "display_data",
          "data": {
            "image/png": "[encoded data removed]",
            "text/plain": [
              "<Figure size 720x576 with 2 Axes>"
            ]
          },
          "metadata": {
            "needs_background": "light"
          }
        }
      ]
    },
    {
      "cell_type": "code",
      "metadata": {
        "colab": {
          "base_uri": "https://localhost:8080/"
        },
        "id": "8yf1UiIMpslM",
        "outputId": "14ca9929-e19e-4d2c-b119-37938581043b"
      },
      "source": [
        "# 50% of the books have less than 750 ratings, while 25% of books have more than 5000 ratings.\n",
        "# Subsetting the dataset to include books only with 750+ ratings to avoid highly \n",
        "# skewed data.\n",
        "print(books_df['ratings_count'].describe().apply(lambda x: format(x, 'f')))\n",
        "books_ratings = books_df[books_df['ratings_count'] > 750]\n",
        "books_ratings.shape"
      ],
      "execution_count": null,
      "outputs": [
        {
          "output_type": "stream",
          "name": "stdout",
          "text": [
            "count      10000.000000\n",
            "mean       17695.330100\n",
            "std       112914.548735\n",
            "min            0.000000\n",
            "25%          104.000000\n",
            "50%          752.500000\n",
            "75%         5019.000000\n",
            "max      4597666.000000\n",
            "Name: ratings_count, dtype: object\n"
          ]
        },
        {
          "output_type": "execute_result",
          "data": {
            "text/plain": [
              "(5004, 13)"
            ]
          },
          "metadata": {},
          "execution_count": 6
        }
      ]
    },
    {
      "cell_type": "code",
      "metadata": {
        "colab": {
          "base_uri": "https://localhost:8080/",
          "height": 641
        },
        "id": "xH9YiCj8qdpX",
        "outputId": "a721fdb8-1930-4103-8a78-3418771c13c9"
      },
      "source": [
        "# Top 10 Books by Rating Count\n",
        "plt.figure(figsize=(10,8))\n",
        "top10_ratings_count = books_ratings.sort_values(by='ratings_count', ascending=False).head(10)\n",
        "sns.set(font_scale=1.25)\n",
        "sns.set(style='whitegrid', palette=\"deep\")\n",
        "bar_plt = sns.barplot(x = top10_ratings_count['ratings_count'], y = top10_ratings_count['title'])\n",
        "bar_plt.set(ylabel=None)\n",
        "bar_plt.set(xlabel=\"Ratings Count\")\n",
        "bar_plt.axes.set_title(\"Top 10 Books by Ratings Count\", fontsize=23, y=1.03)\n",
        "xlabels = ['{:,.0f}'.format(x) + 'K' for x in bar_plt.get_xticks()/10000]\n",
        "bar_plt.set_xticklabels(xlabels)"
      ],
      "execution_count": null,
      "outputs": [
        {
          "output_type": "execute_result",
          "data": {
            "text/plain": [
              "[Text(0, 0, '0K'),\n",
              " Text(0, 0, '100K'),\n",
              " Text(0, 0, '200K'),\n",
              " Text(0, 0, '300K'),\n",
              " Text(0, 0, '400K'),\n",
              " Text(0, 0, '500K')]"
            ]
          },
          "metadata": {},
          "execution_count": 7
        },
        {
          "output_type": "display_data",
          "data": {
            "image/png": "[encoded data removed]",
            "text/plain": [
              "<Figure size 720x576 with 1 Axes>"
            ]
          },
          "metadata": {
            "needs_background": "light"
          }
        }
      ]
    },
    {
      "cell_type": "code",
      "metadata": {
        "id": "Xjn6OqjUppU2",
        "colab": {
          "base_uri": "https://localhost:8080/",
          "height": 544
        },
        "outputId": "38070e58-fbe4-48eb-e5e1-198868de147c"
      },
      "source": [
        "# Top 10 Books by Average Rating\n",
        "top10_avg_rating = books_df[books_df['ratings_count'] > 750]\n",
        "top10_avg_rating = top10_avg_rating.sort_values('average_rating', ascending=False).head(10)\n",
        "plt.figure(figsize=(10,8))\n",
        "sns.set(font_scale=1.25)\n",
        "sns.set(style='whitegrid', palette=\"deep\")\n",
        "bar_plt = sns.barplot(x = top10_avg_rating['average_rating'], y = top10_avg_rating['title'])\n",
        "bar_plt.set(ylabel=None)\n",
        "bar_plt.set(xlabel=\"Average Rating\")\n",
        "bar_plt.axes.set_title(\"Top 10 Books by Average Rating\", fontsize=23, y=1.03)"
      ],
      "execution_count": null,
      "outputs": [
        {
          "output_type": "execute_result",
          "data": {
            "text/plain": [
              "Text(0.5, 1.03, 'Top 10 Books by Average Rating')"
            ]
          },
          "metadata": {},
          "execution_count": 8
        },
        {
          "output_type": "display_data",
          "data": {
            "image/png": "[encoded data removed]",
            "text/plain": [
              "<Figure size 720x576 with 1 Axes>"
            ]
          },
          "metadata": {}
        }
      ]
    },
    {
      "cell_type": "code",
      "metadata": {
        "id": "730ucqh2t-x4",
        "colab": {
          "base_uri": "https://localhost:8080/",
          "height": 1000
        },
        "outputId": "3dfa0d7c-a26e-49d1-ea91-9a31ccbf7b16"
      },
      "source": [
        "# Barplot number of books by language\n",
        "language_counts = pd.DataFrame(books_df['language_code'].value_counts()).reset_index()\n",
        "language_counts.columns = ['lang_code', 'count']\n",
        "plt.figure(figsize=(10,8))\n",
        "sns.set(style='whitegrid', palette=\"deep\")\n",
        "bar_plt = sns.barplot(x = language_counts['lang_code'], y = language_counts['count'])\n",
        "bar_plt.set(ylabel=\"Count\")\n",
        "bar_plt.set(xlabel=\"Language Code\")\n",
        "bar_plt.axes.set_title(\"Number of Books by Language\", fontsize=23, y=1.03)\n",
        "bar_plt.set_xticklabels(bar_plt.get_xticklabels(), rotation=45, horizontalalignment='right')"
      ],
      "execution_count": null,
      "outputs": [
        {
          "output_type": "execute_result",
          "data": {
            "text/plain": [
              "[Text(0, 0, 'eng'),\n",
              " Text(0, 0, 'en-US'),\n",
              " Text(0, 0, 'en-GB'),\n",
              " Text(0, 0, 'spa'),\n",
              " Text(0, 0, 'fre'),\n",
              " Text(0, 0, 'ger'),\n",
              " Text(0, 0, 'jpn'),\n",
              " Text(0, 0, 'mul'),\n",
              " Text(0, 0, 'zho'),\n",
              " Text(0, 0, 'grc'),\n",
              " Text(0, 0, 'por'),\n",
              " Text(0, 0, 'en-CA'),\n",
              " Text(0, 0, 'ita'),\n",
              " Text(0, 0, 'lat'),\n",
              " Text(0, 0, 'enm'),\n",
              " Text(0, 0, 'swe'),\n",
              " Text(0, 0, 'rus'),\n",
              " Text(0, 0, 'nl'),\n",
              " Text(0, 0, 'msa'),\n",
              " Text(0, 0, 'nor'),\n",
              " Text(0, 0, 'tur'),\n",
              " Text(0, 0, 'wel'),\n",
              " Text(0, 0, 'glg'),\n",
              " Text(0, 0, 'ale'),\n",
              " Text(0, 0, 'gla'),\n",
              " Text(0, 0, 'ara')]"
            ]
          },
          "metadata": {},
          "execution_count": 9
        },
        {
          "output_type": "display_data",
          "data": {
            "image/png": "[encoded data removed]",
            "text/plain": [
              "<Figure size 720x576 with 1 Axes>"
            ]
          },
          "metadata": {}
        }
      ]
    },
    {
      "cell_type": "code",
      "metadata": {
        "id": "pyK-2Znig6eN",
        "colab": {
          "base_uri": "https://localhost:8080/",
          "height": 556
        },
        "outputId": "6bf70126-f902-4ea4-8c71-d326bf03966e"
      },
      "source": [
        "# Lineplots books by year, month, day\n",
        "year_counts = pd.DataFrame(books_df['publication_year'].value_counts()).reset_index()\n",
        "year_counts.columns = ['year', 'count']\n",
        "plt.figure(figsize=(10,8))\n",
        "sns.set(style='whitegrid', palette=\"deep\")\n",
        "line_plt = sns.lineplot(x = year_counts['year'], y = year_counts['count'])\n",
        "line_plt.set(ylabel=\"Count\")\n",
        "line_plt.set(xlabel=\"Year\")\n",
        "line_plt.axes.set_title(\"Number of Books by Publication Year\", fontsize=23, y=1.03)\n",
        "#line_plt.set_xticklabels(line_plt.get_xticklabels(), rotation=90, horizontalalignment='right')"
      ],
      "execution_count": null,
      "outputs": [
        {
          "output_type": "execute_result",
          "data": {
            "text/plain": [
              "Text(0.5, 1.03, 'Number of Books by Publication Year')"
            ]
          },
          "metadata": {},
          "execution_count": 10
        },
        {
          "output_type": "display_data",
          "data": {
            "image/png": "[encoded data removed]",
            "text/plain": [
              "<Figure size 720x576 with 1 Axes>"
            ]
          },
          "metadata": {}
        }
      ]
    },
    {
      "cell_type": "code",
      "metadata": {
        "id": "nBYhzUb617Th",
        "colab": {
          "base_uri": "https://localhost:8080/"
        },
        "outputId": "985bbb49-cc56-4b63-d60a-781cbf3fc6a2"
      },
      "source": [
        "# Ratings\n",
        "ratings_df = pd.read_csv(\"/content/Ratings.csv\")\n",
        "ratings_df.head()\n",
        "len(ratings_df)"
      ],
      "execution_count": null,
      "outputs": [
        {
          "output_type": "execute_result",
          "data": {
            "text/plain": [
              "1048575"
            ]
          },
          "metadata": {},
          "execution_count": 11
        }
      ]
    },
    {
      "cell_type": "code",
      "metadata": {
        "colab": {
          "base_uri": "https://localhost:8080/"
        },
        "id": "4ELA5ScHtVCc",
        "outputId": "513269f7-4f6d-43d5-d704-84eb4a5904e5"
      },
      "source": [
        "#Raitings data set observations\n",
        "\n",
        "rating_count = ratings_df.shape[0]\n",
        "percent_of_total = (rating_count / ratings_on_books) * 100\n",
        "\n",
        "mean_rating = ratings_df['rating'].mean()\n",
        "median_rating = ratings_df['rating'].median()\n",
        "\n",
        "user_count = ratings_df['user_id'].nunique()\n",
        "ratings_per_user = rating_count / user_count\n",
        "\n",
        "print('Total number of ratings in dataset: %s' % \"{:,}\".format(rating_count))\n",
        "print('Percent of total ratings included in this dataset: %s percent' % round(percent_of_total, 2))\n",
        "print('Mean rating: %s' % round(mean_rating, 2))\n",
        "print('Median rating: %s' % median_rating)\n",
        "print('Total number of users in dataset: %s' % \"{:,}\".format(user_count))\n",
        "print('Ratings per user: %s' % round(ratings_per_user, 2))"
      ],
      "execution_count": null,
      "outputs": [
        {
          "output_type": "stream",
          "name": "stdout",
          "text": [
            "Total number of ratings in dataset: 1,048,575\n",
            "Percent of total ratings included in this dataset: 0.59 percent\n",
            "Mean rating: 3.81\n",
            "Median rating: 4.0\n",
            "Total number of users in dataset: 13,123\n",
            "Ratings per user: 79.9\n"
          ]
        }
      ]
    },
    {
      "cell_type": "code",
      "metadata": {
        "colab": {
          "base_uri": "https://localhost:8080/",
          "height": 539
        },
        "id": "YbDaaAGDbctb",
        "outputId": "9e937161-34ed-48cb-b25a-5fd656c4e3e0"
      },
      "source": [
        "# Ratings Distribution\n",
        "language_counts = pd.DataFrame(books_df['language_code'].value_counts()).reset_index()\n",
        "language_counts.columns = ['lang_code', 'count']\n",
        "plt.figure(figsize=(10,8))\n",
        "sns.set(style='whitegrid', palette=\"deep\")\n",
        "cnt_plt = sns.countplot(x ='rating', data = ratings_df)\n",
        "cnt_plt.set(ylabel=\"Count\")\n",
        "cnt_plt.set(xlabel=\"Rating\")\n",
        "cnt_plt.axes.set_title(\"Ratings Distribution\", fontsize=23, y=1.03)\n",
        "cnt_plt.ticklabel_format(style='plain', axis='y')"
      ],
      "execution_count": null,
      "outputs": [
        {
          "output_type": "display_data",
          "data": {
            "image/png": "[encoded data removed]",
            "text/plain": [
              "<Figure size 720x576 with 1 Axes>"
            ]
          },
          "metadata": {}
        }
      ]
    },
    {
      "cell_type": "code",
      "metadata": {
        "colab": {
          "base_uri": "https://localhost:8080/",
          "height": 299
        },
        "id": "Zhe7Gh0itj33",
        "outputId": "8c4ead51-f523-4f04-cc68-717719a2b3e1"
      },
      "source": [
        "# Create a histogram of the ratings\n",
        "ratings_df['rating'].plot(kind='hist', bins=5, xticks=[1,2,3,4,5], title='Frequency of Book Ratings', color = \"teal\")"
      ],
      "execution_count": null,
      "outputs": [
        {
          "output_type": "execute_result",
          "data": {
            "text/plain": [
              "<matplotlib.axes._subplots.AxesSubplot at 0x7febb01cd9d0>"
            ]
          },
          "metadata": {},
          "execution_count": 29
        },
        {
          "output_type": "display_data",
          "data": {
            "image/png": "[encoded data removed]",
            "text/plain": [
              "<Figure size 432x288 with 1 Axes>"
            ]
          },
          "metadata": {
            "needs_background": "light"
          }
        }
      ]
    },
    {
      "cell_type": "code",
      "metadata": {
        "colab": {
          "base_uri": "https://localhost:8080/",
          "height": 299
        },
        "id": "qZWdbCLhtnSb",
        "outputId": "a3965cc0-e7a5-454f-878b-6f4f1acdc73d"
      },
      "source": [
        "# Create a histogram of rating count per user\n",
        "ratings_df['user_id'].value_counts().plot(kind='hist', title='Frequency of Review Count per User', color = \"orange\")"
      ],
      "execution_count": null,
      "outputs": [
        {
          "output_type": "execute_result",
          "data": {
            "text/plain": [
              "<matplotlib.axes._subplots.AxesSubplot at 0x7febb000b8d0>"
            ]
          },
          "metadata": {},
          "execution_count": 30
        },
        {
          "output_type": "display_data",
          "data": {
            "image/png": "[encoded data removed]",
            "text/plain": [
              "<Figure size 432x288 with 1 Axes>"
            ]
          },
          "metadata": {
            "needs_background": "light"
          }
        }
      ]
    },
    {
      "cell_type": "code",
      "metadata": {
        "colab": {
          "base_uri": "https://localhost:8080/"
        },
        "id": "n8FfHfxQtrqp",
        "outputId": "87b20241-c63a-490a-869a-1eeab6412b19"
      },
      "source": [
        "#AuthorsAndBookCounts\n",
        "books_df.authors.value_counts()"
      ],
      "execution_count": null,
      "outputs": [
        {
          "output_type": "execute_result",
          "data": {
            "text/plain": [
              "Stephen King                                           38\n",
              "Rumiko Takahashi                                       37\n",
              "P.G. Wodehouse                                         34\n",
              "Orson Scott Card                                       31\n",
              "Agatha Christie                                        30\n",
              "                                                       ..\n",
              "Daniel Abraham                                          1\n",
              "C.E. Murphy                                             1\n",
              "Joseph Conrad/Morton Dauwen Zabel/Frederick R. Karl     1\n",
              "Steve Perry/Michael Reaves                              1\n",
              "Ben Schott/Collin Deckerman                             1\n",
              "Name: authors, Length: 6108, dtype: int64"
            ]
          },
          "metadata": {},
          "execution_count": 15
        }
      ]
    },
    {
      "cell_type": "code",
      "metadata": {
        "id": "5E_sKizEPpol",
        "colab": {
          "base_uri": "https://localhost:8080/",
          "height": 204
        },
        "outputId": "82080411-d552-4e16-8d90-b92a4031423e"
      },
      "source": [
        "# Combine book and ratings data\n",
        "ratings_books_df = pd.merge(ratings_df, books_df, on='book_id')\n",
        "columns_to_remove = ['authors', \n",
        "                  'average_rating', \n",
        "                  'language_code',\n",
        "                  'num_pages',\n",
        "                  'ratings_count',\n",
        "                  'text_reviews_count',\n",
        "                  'publication_date',\n",
        "                  'publisher',\n",
        "                  'publication_month',\n",
        "                  'publication_day',\n",
        "                  'publication_year']\n",
        "ratings_books_df = ratings_books_df.drop(columns_to_remove, axis=1)\n",
        "ratings_books_df.head()"
      ],
      "execution_count": null,
      "outputs": [
        {
          "output_type": "execute_result",
          "data": {
            "text/html": [
              "<div>\n",
              "<style scoped>\n",
              "    .dataframe tbody tr th:only-of-type {\n",
              "        vertical-align: middle;\n",
              "    }\n",
              "\n",
              "    .dataframe tbody tr th {\n",
              "        vertical-align: top;\n",
              "    }\n",
              "\n",
              "    .dataframe thead th {\n",
              "        text-align: right;\n",
              "    }\n",
              "</style>\n",
              "<table border=\"1\" class=\"dataframe\">\n",
              "  <thead>\n",
              "    <tr style=\"text-align: right;\">\n",
              "      <th></th>\n",
              "      <th>user_id</th>\n",
              "      <th>book_id</th>\n",
              "      <th>rating</th>\n",
              "      <th>title</th>\n",
              "    </tr>\n",
              "  </thead>\n",
              "  <tbody>\n",
              "    <tr>\n",
              "      <th>0</th>\n",
              "      <td>2</td>\n",
              "      <td>26</td>\n",
              "      <td>4</td>\n",
              "      <td>The Lost Continent: Travels in Small Town America</td>\n",
              "    </tr>\n",
              "    <tr>\n",
              "      <th>1</th>\n",
              "      <td>4</td>\n",
              "      <td>26</td>\n",
              "      <td>3</td>\n",
              "      <td>The Lost Continent: Travels in Small Town America</td>\n",
              "    </tr>\n",
              "    <tr>\n",
              "      <th>2</th>\n",
              "      <td>9</td>\n",
              "      <td>26</td>\n",
              "      <td>2</td>\n",
              "      <td>The Lost Continent: Travels in Small Town America</td>\n",
              "    </tr>\n",
              "    <tr>\n",
              "      <th>3</th>\n",
              "      <td>11</td>\n",
              "      <td>26</td>\n",
              "      <td>3</td>\n",
              "      <td>The Lost Continent: Travels in Small Town America</td>\n",
              "    </tr>\n",
              "    <tr>\n",
              "      <th>4</th>\n",
              "      <td>15</td>\n",
              "      <td>26</td>\n",
              "      <td>3</td>\n",
              "      <td>The Lost Continent: Travels in Small Town America</td>\n",
              "    </tr>\n",
              "  </tbody>\n",
              "</table>\n",
              "</div>"
            ],
            "text/plain": [
              "   user_id  book_id  rating                                              title\n",
              "0        2       26       4  The Lost Continent: Travels in Small Town America\n",
              "1        4       26       3  The Lost Continent: Travels in Small Town America\n",
              "2        9       26       2  The Lost Continent: Travels in Small Town America\n",
              "3       11       26       3  The Lost Continent: Travels in Small Town America\n",
              "4       15       26       3  The Lost Continent: Travels in Small Town America"
            ]
          },
          "metadata": {},
          "execution_count": 16
        }
      ]
    },
    {
      "cell_type": "code",
      "metadata": {
        "colab": {
          "base_uri": "https://localhost:8080/",
          "height": 204
        },
        "id": "luiGaTlaRRIc",
        "outputId": "6c8f2ef6-2414-4715-9f5a-ae641bac5340"
      },
      "source": [
        "# Group by title and add a column to represent count of ratings for each book\n",
        "ratings_books_df = ratings_books_df.dropna(axis=0, subset=['title'])\n",
        "ratings_count_df = ratings_books_df.groupby(by = ['title'])['rating'].count().reset_index()\n",
        "ratings_count_df.head()\n",
        "\n",
        "# Combine ratings_count_df and ratings_books_df to filter out less\n",
        "# reviewed books\n",
        "ratings_total_count_df = ratings_books_df.merge(ratings_count_df, left_on='title', right_on='title', how='left')\n",
        "ratings_total_count_df.columns = ['user_id', 'book_id', 'rating', 'title', 'total_ratings']\n",
        "ratings_total_count_df.head()"
      ],
      "execution_count": null,
      "outputs": [
        {
          "output_type": "execute_result",
          "data": {
            "text/html": [
              "<div>\n",
              "<style scoped>\n",
              "    .dataframe tbody tr th:only-of-type {\n",
              "        vertical-align: middle;\n",
              "    }\n",
              "\n",
              "    .dataframe tbody tr th {\n",
              "        vertical-align: top;\n",
              "    }\n",
              "\n",
              "    .dataframe thead th {\n",
              "        text-align: right;\n",
              "    }\n",
              "</style>\n",
              "<table border=\"1\" class=\"dataframe\">\n",
              "  <thead>\n",
              "    <tr style=\"text-align: right;\">\n",
              "      <th></th>\n",
              "      <th>user_id</th>\n",
              "      <th>book_id</th>\n",
              "      <th>rating</th>\n",
              "      <th>title</th>\n",
              "      <th>total_ratings</th>\n",
              "    </tr>\n",
              "  </thead>\n",
              "  <tbody>\n",
              "    <tr>\n",
              "      <th>0</th>\n",
              "      <td>2</td>\n",
              "      <td>26</td>\n",
              "      <td>4</td>\n",
              "      <td>The Lost Continent: Travels in Small Town America</td>\n",
              "      <td>4725</td>\n",
              "    </tr>\n",
              "    <tr>\n",
              "      <th>1</th>\n",
              "      <td>4</td>\n",
              "      <td>26</td>\n",
              "      <td>3</td>\n",
              "      <td>The Lost Continent: Travels in Small Town America</td>\n",
              "      <td>4725</td>\n",
              "    </tr>\n",
              "    <tr>\n",
              "      <th>2</th>\n",
              "      <td>9</td>\n",
              "      <td>26</td>\n",
              "      <td>2</td>\n",
              "      <td>The Lost Continent: Travels in Small Town America</td>\n",
              "      <td>4725</td>\n",
              "    </tr>\n",
              "    <tr>\n",
              "      <th>3</th>\n",
              "      <td>11</td>\n",
              "      <td>26</td>\n",
              "      <td>3</td>\n",
              "      <td>The Lost Continent: Travels in Small Town America</td>\n",
              "      <td>4725</td>\n",
              "    </tr>\n",
              "    <tr>\n",
              "      <th>4</th>\n",
              "      <td>15</td>\n",
              "      <td>26</td>\n",
              "      <td>3</td>\n",
              "      <td>The Lost Continent: Travels in Small Town America</td>\n",
              "      <td>4725</td>\n",
              "    </tr>\n",
              "  </tbody>\n",
              "</table>\n",
              "</div>"
            ],
            "text/plain": [
              "   user_id  ...  total_ratings\n",
              "0        2  ...           4725\n",
              "1        4  ...           4725\n",
              "2        9  ...           4725\n",
              "3       11  ...           4725\n",
              "4       15  ...           4725\n",
              "\n",
              "[5 rows x 5 columns]"
            ]
          },
          "metadata": {},
          "execution_count": 17
        }
      ]
    },
    {
      "cell_type": "code",
      "metadata": {
        "colab": {
          "base_uri": "https://localhost:8080/",
          "height": 238
        },
        "id": "OWfBdA_AdzRT",
        "outputId": "f86515c4-1015-4d5a-a6b0-4f3fa8f678b0"
      },
      "source": [
        "# Check the descriptive statistics of total ratings to see how the \n",
        "# total reviews are distributed and if we should subset the data for building\n",
        "# out model\n",
        "ratings_total_count_df['total_ratings'].describe()\n",
        "\n",
        "# There is a book the has only one review, 25% of books have less than 340 reviews\n",
        "# Our model won't be accurate if we include data with low review counts.\n",
        "# To make sure we get results that make sense I think we should limit our dataset\n",
        "# to include books with more that 340 reviews.\n",
        "most_pop_books_df = ratings_total_count_df[ratings_total_count_df['total_ratings'] > 340]\n",
        "print(f\"Original dataset: {ratings_total_count_df.shape}\")\n",
        "print(f\"New dataset: {most_pop_books_df.shape}\")\n",
        "most_pop_books_df.head()"
      ],
      "execution_count": null,
      "outputs": [
        {
          "output_type": "stream",
          "name": "stdout",
          "text": [
            "Original dataset: (353374, 5)\n",
            "New dataset: (246463, 5)\n"
          ]
        },
        {
          "output_type": "execute_result",
          "data": {
            "text/html": [
              "<div>\n",
              "<style scoped>\n",
              "    .dataframe tbody tr th:only-of-type {\n",
              "        vertical-align: middle;\n",
              "    }\n",
              "\n",
              "    .dataframe tbody tr th {\n",
              "        vertical-align: top;\n",
              "    }\n",
              "\n",
              "    .dataframe thead th {\n",
              "        text-align: right;\n",
              "    }\n",
              "</style>\n",
              "<table border=\"1\" class=\"dataframe\">\n",
              "  <thead>\n",
              "    <tr style=\"text-align: right;\">\n",
              "      <th></th>\n",
              "      <th>user_id</th>\n",
              "      <th>book_id</th>\n",
              "      <th>rating</th>\n",
              "      <th>title</th>\n",
              "      <th>total_ratings</th>\n",
              "    </tr>\n",
              "  </thead>\n",
              "  <tbody>\n",
              "    <tr>\n",
              "      <th>0</th>\n",
              "      <td>2</td>\n",
              "      <td>26</td>\n",
              "      <td>4</td>\n",
              "      <td>The Lost Continent: Travels in Small Town America</td>\n",
              "      <td>4725</td>\n",
              "    </tr>\n",
              "    <tr>\n",
              "      <th>1</th>\n",
              "      <td>4</td>\n",
              "      <td>26</td>\n",
              "      <td>3</td>\n",
              "      <td>The Lost Continent: Travels in Small Town America</td>\n",
              "      <td>4725</td>\n",
              "    </tr>\n",
              "    <tr>\n",
              "      <th>2</th>\n",
              "      <td>9</td>\n",
              "      <td>26</td>\n",
              "      <td>2</td>\n",
              "      <td>The Lost Continent: Travels in Small Town America</td>\n",
              "      <td>4725</td>\n",
              "    </tr>\n",
              "    <tr>\n",
              "      <th>3</th>\n",
              "      <td>11</td>\n",
              "      <td>26</td>\n",
              "      <td>3</td>\n",
              "      <td>The Lost Continent: Travels in Small Town America</td>\n",
              "      <td>4725</td>\n",
              "    </tr>\n",
              "    <tr>\n",
              "      <th>4</th>\n",
              "      <td>15</td>\n",
              "      <td>26</td>\n",
              "      <td>3</td>\n",
              "      <td>The Lost Continent: Travels in Small Town America</td>\n",
              "      <td>4725</td>\n",
              "    </tr>\n",
              "  </tbody>\n",
              "</table>\n",
              "</div>"
            ],
            "text/plain": [
              "   user_id  ...  total_ratings\n",
              "0        2  ...           4725\n",
              "1        4  ...           4725\n",
              "2        9  ...           4725\n",
              "3       11  ...           4725\n",
              "4       15  ...           4725\n",
              "\n",
              "[5 rows x 5 columns]"
            ]
          },
          "metadata": {},
          "execution_count": 62
        }
      ]
    },
    {
      "cell_type": "code",
      "metadata": {
        "colab": {
          "base_uri": "https://localhost:8080/"
        },
        "id": "Uc_E-ZkpIg6V",
        "outputId": "10b110f9-f1a6-4375-aa2d-75a810e5b45b"
      },
      "source": [
        "# Group the ratings by book and merge books_df to add book titles for easy identification\n",
        "df = pd.DataFrame(ratings_df.groupby('book_id')['rating'].mean()).reset_index()\n",
        "df['rating_count'] = pd.DataFrame(ratings_df.groupby('book_id')['rating'].count())\n",
        "\n",
        "# We can see that books with the most ratings also have a fairly high average user rating.\n",
        "# I think this will allow for correlation to make decent recommendation\n",
        "print(df.sort_values('rating_count', ascending=False).head(10))\n",
        "\n",
        "# Pivot to create a 2d matrix of users and their book ratings\n",
        "df_pivot = ratings_df.pivot_table(index='user_id', columns='book_id').rating\n",
        "user_id = df_pivot.index\n",
        "book_id = df_pivot.columns\n",
        "\n",
        "# Data in the 2D matrix is sparse because not every user rated every book\n",
        "print(df_pivot.head())"
      ],
      "execution_count": null,
      "outputs": [
        {
          "output_type": "stream",
          "name": "stdout",
          "text": [
            "    book_id    rating  rating_count\n",
            "2         3  3.428427        4937.0\n",
            "26       27  4.349310        4725.0\n",
            "4         5  3.690201        4651.0\n",
            "18       19  4.162694        4335.0\n",
            "23       24  4.300649        4329.0\n",
            "24       25  4.437710        4314.0\n",
            "21       22  3.513233        4203.0\n",
            "25       26  3.423069        4158.0\n",
            "27       28  3.617868        4131.0\n",
            "5         6  4.600000        3980.0\n",
            "book_id  1      2      3      4      5      ...  9996   9997   9998   9999   10000\n",
            "user_id                                     ...                                   \n",
            "1          NaN    NaN    NaN    5.0    NaN  ...    NaN    NaN    NaN    NaN    NaN\n",
            "2          NaN    NaN    NaN    NaN    NaN  ...    NaN    NaN    NaN    NaN    NaN\n",
            "3          NaN    NaN    NaN    3.0    NaN  ...    NaN    NaN    NaN    NaN    NaN\n",
            "4          NaN    5.0    NaN    4.0    4.0  ...    NaN    NaN    NaN    NaN    NaN\n",
            "6          NaN    NaN    NaN    NaN    NaN  ...    NaN    NaN    NaN    NaN    NaN\n",
            "\n",
            "[5 rows x 7774 columns]\n"
          ]
        }
      ]
    },
    {
      "cell_type": "code",
      "metadata": {
        "colab": {
          "base_uri": "https://localhost:8080/",
          "height": 603
        },
        "id": "XJDvauHL919E",
        "outputId": "2d95c23d-1b4c-4093-8b33-4f074b628523"
      },
      "source": [
        "books_df[books_df['title'] == 'The Iliad']"
      ],
      "execution_count": null,
      "outputs": [
        {
          "output_type": "execute_result",
          "data": {
            "text/html": [
              "<div>\n",
              "<style scoped>\n",
              "    .dataframe tbody tr th:only-of-type {\n",
              "        vertical-align: middle;\n",
              "    }\n",
              "\n",
              "    .dataframe tbody tr th {\n",
              "        vertical-align: top;\n",
              "    }\n",
              "\n",
              "    .dataframe thead th {\n",
              "        text-align: right;\n",
              "    }\n",
              "</style>\n",
              "<table border=\"1\" class=\"dataframe\">\n",
              "  <thead>\n",
              "    <tr style=\"text-align: right;\">\n",
              "      <th></th>\n",
              "      <th>book_id</th>\n",
              "      <th>title</th>\n",
              "      <th>authors</th>\n",
              "      <th>average_rating</th>\n",
              "      <th>language_code</th>\n",
              "      <th>num_pages</th>\n",
              "      <th>ratings_count</th>\n",
              "      <th>text_reviews_count</th>\n",
              "      <th>publication_date</th>\n",
              "      <th>publisher</th>\n",
              "      <th>publication_month</th>\n",
              "      <th>publication_day</th>\n",
              "      <th>publication_year</th>\n",
              "    </tr>\n",
              "  </thead>\n",
              "  <tbody>\n",
              "    <tr>\n",
              "      <th>356</th>\n",
              "      <td>1371</td>\n",
              "      <td>The Iliad</td>\n",
              "      <td>Homer/Robert Fagles/Bernard Knox</td>\n",
              "      <td>3.86</td>\n",
              "      <td>eng</td>\n",
              "      <td>683</td>\n",
              "      <td>288792</td>\n",
              "      <td>3423</td>\n",
              "      <td>1999-04-29</td>\n",
              "      <td>Penguin Classics</td>\n",
              "      <td>April</td>\n",
              "      <td>Thursday</td>\n",
              "      <td>1999</td>\n",
              "    </tr>\n",
              "    <tr>\n",
              "      <th>358</th>\n",
              "      <td>1374</td>\n",
              "      <td>The Iliad</td>\n",
              "      <td>Homer/Robert Fitzgerald/Andrew Ford</td>\n",
              "      <td>3.86</td>\n",
              "      <td>en-US</td>\n",
              "      <td>588</td>\n",
              "      <td>692</td>\n",
              "      <td>81</td>\n",
              "      <td>2004-04-03</td>\n",
              "      <td>Farrar  Straus and Giroux</td>\n",
              "      <td>April</td>\n",
              "      <td>Saturday</td>\n",
              "      <td>2004</td>\n",
              "    </tr>\n",
              "    <tr>\n",
              "      <th>360</th>\n",
              "      <td>1376</td>\n",
              "      <td>The Iliad</td>\n",
              "      <td>Homer/E.V. Rieu/Peter Jones/D.C.H. Rieu</td>\n",
              "      <td>3.86</td>\n",
              "      <td>eng</td>\n",
              "      <td>462</td>\n",
              "      <td>1919</td>\n",
              "      <td>118</td>\n",
              "      <td>2003-01-30</td>\n",
              "      <td>Penguin Classics</td>\n",
              "      <td>January</td>\n",
              "      <td>Thursday</td>\n",
              "      <td>2003</td>\n",
              "    </tr>\n",
              "    <tr>\n",
              "      <th>361</th>\n",
              "      <td>1377</td>\n",
              "      <td>The Iliad</td>\n",
              "      <td>Homer/W.H.D. Rouse</td>\n",
              "      <td>3.86</td>\n",
              "      <td>en-US</td>\n",
              "      <td>312</td>\n",
              "      <td>158</td>\n",
              "      <td>15</td>\n",
              "      <td>1999-08-01</td>\n",
              "      <td>Signet Classics</td>\n",
              "      <td>August</td>\n",
              "      <td>Sunday</td>\n",
              "      <td>1999</td>\n",
              "    </tr>\n",
              "    <tr>\n",
              "      <th>493</th>\n",
              "      <td>1796</td>\n",
              "      <td>The Iliad</td>\n",
              "      <td>Homer/Robert Fitzgerald</td>\n",
              "      <td>3.86</td>\n",
              "      <td>eng</td>\n",
              "      <td>594</td>\n",
              "      <td>30</td>\n",
              "      <td>2</td>\n",
              "      <td>1992-03-19</td>\n",
              "      <td>Everyman</td>\n",
              "      <td>March</td>\n",
              "      <td>Thursday</td>\n",
              "      <td>1992</td>\n",
              "    </tr>\n",
              "    <tr>\n",
              "      <th>3010</th>\n",
              "      <td>12254</td>\n",
              "      <td>The Iliad</td>\n",
              "      <td>Homer/Robert Fagles/Derek Jacobi</td>\n",
              "      <td>3.86</td>\n",
              "      <td>eng</td>\n",
              "      <td>8</td>\n",
              "      <td>42</td>\n",
              "      <td>7</td>\n",
              "      <td>2006-06-15</td>\n",
              "      <td>Penguin-HighBridge</td>\n",
              "      <td>June</td>\n",
              "      <td>Thursday</td>\n",
              "      <td>2006</td>\n",
              "    </tr>\n",
              "    <tr>\n",
              "      <th>5327</th>\n",
              "      <td>22221</td>\n",
              "      <td>The Iliad</td>\n",
              "      <td>Homer</td>\n",
              "      <td>3.86</td>\n",
              "      <td>eng</td>\n",
              "      <td>150</td>\n",
              "      <td>3834</td>\n",
              "      <td>134</td>\n",
              "      <td>1999-10-28</td>\n",
              "      <td>John Wiley &amp; Sons</td>\n",
              "      <td>October</td>\n",
              "      <td>Thursday</td>\n",
              "      <td>1999</td>\n",
              "    </tr>\n",
              "    <tr>\n",
              "      <th>7673</th>\n",
              "      <td>32780</td>\n",
              "      <td>The Iliad</td>\n",
              "      <td>Homer/Andrew Lang</td>\n",
              "      <td>3.86</td>\n",
              "      <td>eng</td>\n",
              "      <td>542</td>\n",
              "      <td>64</td>\n",
              "      <td>8</td>\n",
              "      <td>2011-09-01</td>\n",
              "      <td>Collector's Library</td>\n",
              "      <td>September</td>\n",
              "      <td>Thursday</td>\n",
              "      <td>2011</td>\n",
              "    </tr>\n",
              "    <tr>\n",
              "      <th>7675</th>\n",
              "      <td>32782</td>\n",
              "      <td>The Iliad</td>\n",
              "      <td>Homer/Victor G. Ambrus/Nick McCarty</td>\n",
              "      <td>3.86</td>\n",
              "      <td>eng</td>\n",
              "      <td>95</td>\n",
              "      <td>8</td>\n",
              "      <td>3</td>\n",
              "      <td>2000-09-15</td>\n",
              "      <td>Kingfisher</td>\n",
              "      <td>September</td>\n",
              "      <td>Friday</td>\n",
              "      <td>2000</td>\n",
              "    </tr>\n",
              "  </tbody>\n",
              "</table>\n",
              "</div>"
            ],
            "text/plain": [
              "      book_id      title  ... publication_day  publication_year\n",
              "356      1371  The Iliad  ...        Thursday              1999\n",
              "358      1374  The Iliad  ...        Saturday              2004\n",
              "360      1376  The Iliad  ...        Thursday              2003\n",
              "361      1377  The Iliad  ...          Sunday              1999\n",
              "493      1796  The Iliad  ...        Thursday              1992\n",
              "3010    12254  The Iliad  ...        Thursday              2006\n",
              "5327    22221  The Iliad  ...        Thursday              1999\n",
              "7673    32780  The Iliad  ...        Thursday              2011\n",
              "7675    32782  The Iliad  ...          Friday              2000\n",
              "\n",
              "[9 rows x 13 columns]"
            ]
          },
          "metadata": {},
          "execution_count": 55
        }
      ]
    },
    {
      "cell_type": "markdown",
      "metadata": {
        "id": "_O6KxR2iaOhP"
      },
      "source": [
        "**<h3>Model 1 - Correlation Recommendation System</h3>**"
      ]
    },
    {
      "cell_type": "code",
      "metadata": {
        "id": "jpHxL8yeQzJI",
        "colab": {
          "base_uri": "https://localhost:8080/",
          "height": 447
        },
        "outputId": "c686f753-a12e-4cb5-abcf-e40e6cae43d1"
      },
      "source": [
        "# We can test 3 books to see how well correlation works\n",
        "\n",
        "# book_id = 1371 - The Iliad\n",
        "test1_df = df_pivot[1371]\n",
        "rec_test1 = df_pivot.corrwith(test1_df)\n",
        "corr_df = pd.DataFrame(rec_test1, columns=['Correlation'])\n",
        "corr_df.dropna(inplace=True)\n",
        "corr_df = pd.merge(corr_df, books_df, on='book_id')\n",
        "corr_df = corr_df[['book_id', 'Correlation', 'title']]\n",
        "corr_df.sort_values('Correlation', ascending=False).head(10)"
      ],
      "execution_count": null,
      "outputs": [
        {
          "output_type": "stream",
          "name": "stderr",
          "text": [
            "/usr/local/lib/python3.7/dist-packages/numpy/lib/function_base.py:2551: RuntimeWarning: Degrees of freedom <= 0 for slice\n",
            "  c = cov(x, y, rowvar)\n",
            "/usr/local/lib/python3.7/dist-packages/numpy/lib/function_base.py:2480: RuntimeWarning: divide by zero encountered in true_divide\n",
            "  c *= np.true_divide(1, fact)\n"
          ]
        },
        {
          "output_type": "execute_result",
          "data": {
            "text/html": [
              "<div>\n",
              "<style scoped>\n",
              "    .dataframe tbody tr th:only-of-type {\n",
              "        vertical-align: middle;\n",
              "    }\n",
              "\n",
              "    .dataframe tbody tr th {\n",
              "        vertical-align: top;\n",
              "    }\n",
              "\n",
              "    .dataframe thead th {\n",
              "        text-align: right;\n",
              "    }\n",
              "</style>\n",
              "<table border=\"1\" class=\"dataframe\">\n",
              "  <thead>\n",
              "    <tr style=\"text-align: right;\">\n",
              "      <th></th>\n",
              "      <th>book_id</th>\n",
              "      <th>Correlation</th>\n",
              "      <th>title</th>\n",
              "    </tr>\n",
              "  </thead>\n",
              "  <tbody>\n",
              "    <tr>\n",
              "      <th>213</th>\n",
              "      <td>1853</td>\n",
              "      <td>1.0</td>\n",
              "      <td>Wild About Books</td>\n",
              "    </tr>\n",
              "    <tr>\n",
              "      <th>161</th>\n",
              "      <td>966</td>\n",
              "      <td>1.0</td>\n",
              "      <td>Angeles &amp; Demonios</td>\n",
              "    </tr>\n",
              "    <tr>\n",
              "      <th>235</th>\n",
              "      <td>2680</td>\n",
              "      <td>1.0</td>\n",
              "      <td>Empire 2.0: A Modest Proposal for a United Sta...</td>\n",
              "    </tr>\n",
              "    <tr>\n",
              "      <th>250</th>\n",
              "      <td>3978</td>\n",
              "      <td>1.0</td>\n",
              "      <td>A Winter Haunting (Seasons of Horror  #2)</td>\n",
              "    </tr>\n",
              "    <tr>\n",
              "      <th>185</th>\n",
              "      <td>1371</td>\n",
              "      <td>1.0</td>\n",
              "      <td>The Iliad</td>\n",
              "    </tr>\n",
              "    <tr>\n",
              "      <th>73</th>\n",
              "      <td>157</td>\n",
              "      <td>1.0</td>\n",
              "      <td>Anna Karenina</td>\n",
              "    </tr>\n",
              "    <tr>\n",
              "      <th>170</th>\n",
              "      <td>1068</td>\n",
              "      <td>1.0</td>\n",
              "      <td>1776</td>\n",
              "    </tr>\n",
              "    <tr>\n",
              "      <th>215</th>\n",
              "      <td>1902</td>\n",
              "      <td>1.0</td>\n",
              "      <td>In the Land of White Death: An Epic Story of S...</td>\n",
              "    </tr>\n",
              "    <tr>\n",
              "      <th>223</th>\n",
              "      <td>2136</td>\n",
              "      <td>1.0</td>\n",
              "      <td>Specimen Days</td>\n",
              "    </tr>\n",
              "    <tr>\n",
              "      <th>150</th>\n",
              "      <td>828</td>\n",
              "      <td>1.0</td>\n",
              "      <td>Interface</td>\n",
              "    </tr>\n",
              "  </tbody>\n",
              "</table>\n",
              "</div>"
            ],
            "text/plain": [
              "     book_id  Correlation                                              title\n",
              "213     1853          1.0                                   Wild About Books\n",
              "161      966          1.0                                 Angeles & Demonios\n",
              "235     2680          1.0  Empire 2.0: A Modest Proposal for a United Sta...\n",
              "250     3978          1.0          A Winter Haunting (Seasons of Horror  #2)\n",
              "185     1371          1.0                                          The Iliad\n",
              "73       157          1.0                                      Anna Karenina\n",
              "170     1068          1.0                                               1776\n",
              "215     1902          1.0  In the Land of White Death: An Epic Story of S...\n",
              "223     2136          1.0                                      Specimen Days\n",
              "150      828          1.0                                          Interface"
            ]
          },
          "metadata": {},
          "execution_count": 56
        }
      ]
    },
    {
      "cell_type": "code",
      "metadata": {
        "id": "a4--rwp5bwfC",
        "colab": {
          "base_uri": "https://localhost:8080/",
          "height": 447
        },
        "outputId": "2718356b-7b1f-460a-9f7c-3dcbbdf87116"
      },
      "source": [
        "# book_id = 23 - Bryson's Dictionary of Troublesome Words\n",
        "test1_df = df_pivot[23]\n",
        "rec_test1 = df_pivot.corrwith(test1_df)\n",
        "corr_df = pd.DataFrame(rec_test1, columns=['Correlation'])\n",
        "corr_df.dropna(inplace=True)\n",
        "corr_df = pd.merge(corr_df, books_df, on='book_id')\n",
        "corr_df = corr_df[['book_id', 'Correlation', 'title']]\n",
        "corr_df.sort_values('Correlation', ascending=False).head(10)"
      ],
      "execution_count": null,
      "outputs": [
        {
          "output_type": "stream",
          "name": "stderr",
          "text": [
            "/usr/local/lib/python3.7/dist-packages/numpy/lib/function_base.py:2551: RuntimeWarning: Degrees of freedom <= 0 for slice\n",
            "  c = cov(x, y, rowvar)\n",
            "/usr/local/lib/python3.7/dist-packages/numpy/lib/function_base.py:2480: RuntimeWarning: divide by zero encountered in true_divide\n",
            "  c *= np.true_divide(1, fact)\n"
          ]
        },
        {
          "output_type": "execute_result",
          "data": {
            "text/html": [
              "<div>\n",
              "<style scoped>\n",
              "    .dataframe tbody tr th:only-of-type {\n",
              "        vertical-align: middle;\n",
              "    }\n",
              "\n",
              "    .dataframe tbody tr th {\n",
              "        vertical-align: top;\n",
              "    }\n",
              "\n",
              "    .dataframe thead th {\n",
              "        text-align: right;\n",
              "    }\n",
              "</style>\n",
              "<table border=\"1\" class=\"dataframe\">\n",
              "  <thead>\n",
              "    <tr style=\"text-align: right;\">\n",
              "      <th></th>\n",
              "      <th>book_id</th>\n",
              "      <th>Correlation</th>\n",
              "      <th>title</th>\n",
              "    </tr>\n",
              "  </thead>\n",
              "  <tbody>\n",
              "    <tr>\n",
              "      <th>476</th>\n",
              "      <td>3042</td>\n",
              "      <td>1.0</td>\n",
              "      <td>Knowledge And Decisions</td>\n",
              "    </tr>\n",
              "    <tr>\n",
              "      <th>405</th>\n",
              "      <td>2375</td>\n",
              "      <td>1.0</td>\n",
              "      <td>The Bone Collector's Son</td>\n",
              "    </tr>\n",
              "    <tr>\n",
              "      <th>923</th>\n",
              "      <td>7842</td>\n",
              "      <td>1.0</td>\n",
              "      <td>Another Day in Cubicle Paradise</td>\n",
              "    </tr>\n",
              "    <tr>\n",
              "      <th>935</th>\n",
              "      <td>8012</td>\n",
              "      <td>1.0</td>\n",
              "      <td>Mr. Impossible</td>\n",
              "    </tr>\n",
              "    <tr>\n",
              "      <th>908</th>\n",
              "      <td>7721</td>\n",
              "      <td>1.0</td>\n",
              "      <td>The Metamorphosis</td>\n",
              "    </tr>\n",
              "    <tr>\n",
              "      <th>741</th>\n",
              "      <td>5527</td>\n",
              "      <td>1.0</td>\n",
              "      <td>All the King's Men</td>\n",
              "    </tr>\n",
              "    <tr>\n",
              "      <th>1001</th>\n",
              "      <td>9143</td>\n",
              "      <td>1.0</td>\n",
              "      <td>Ballet Class</td>\n",
              "    </tr>\n",
              "    <tr>\n",
              "      <th>303</th>\n",
              "      <td>1595</td>\n",
              "      <td>1.0</td>\n",
              "      <td>Genres in Dialogue: Plato and the Construct of...</td>\n",
              "    </tr>\n",
              "    <tr>\n",
              "      <th>304</th>\n",
              "      <td>1618</td>\n",
              "      <td>1.0</td>\n",
              "      <td>The Curious Incident of the Dog in the Night-Time</td>\n",
              "    </tr>\n",
              "    <tr>\n",
              "      <th>661</th>\n",
              "      <td>4898</td>\n",
              "      <td>1.0</td>\n",
              "      <td>Blue Ocean Strategy: How to Create Uncontested...</td>\n",
              "    </tr>\n",
              "  </tbody>\n",
              "</table>\n",
              "</div>"
            ],
            "text/plain": [
              "      book_id  Correlation                                              title\n",
              "476      3042          1.0                            Knowledge And Decisions\n",
              "405      2375          1.0                           The Bone Collector's Son\n",
              "923      7842          1.0                    Another Day in Cubicle Paradise\n",
              "935      8012          1.0                                     Mr. Impossible\n",
              "908      7721          1.0                                  The Metamorphosis\n",
              "741      5527          1.0                                 All the King's Men\n",
              "1001     9143          1.0                                       Ballet Class\n",
              "303      1595          1.0  Genres in Dialogue: Plato and the Construct of...\n",
              "304      1618          1.0  The Curious Incident of the Dog in the Night-Time\n",
              "661      4898          1.0  Blue Ocean Strategy: How to Create Uncontested..."
            ]
          },
          "metadata": {},
          "execution_count": 17
        }
      ]
    },
    {
      "cell_type": "code",
      "metadata": {
        "colab": {
          "base_uri": "https://localhost:8080/",
          "height": 447
        },
        "id": "x8UGgp9XofP6",
        "outputId": "a8d9bffd-d4ef-488c-fde6-cd86c88594c0"
      },
      "source": [
        "# book_id = 4 - Harry Potter and the Chamber of Secrets\n",
        "test1_df = df_pivot[4]\n",
        "rec_test1 = df_pivot.corrwith(test1_df)\n",
        "corr_df = pd.DataFrame(rec_test1, columns=['Correlation'])\n",
        "corr_df.dropna(inplace=True)\n",
        "corr_df = pd.merge(corr_df, books_df, on='book_id')\n",
        "corr_df = corr_df[['book_id', 'Correlation', 'title']]\n",
        "corr_df.sort_values('Correlation', ascending=False).head(10)"
      ],
      "execution_count": null,
      "outputs": [
        {
          "output_type": "stream",
          "name": "stderr",
          "text": [
            "/usr/local/lib/python3.7/dist-packages/numpy/lib/function_base.py:2551: RuntimeWarning: Degrees of freedom <= 0 for slice\n",
            "  c = cov(x, y, rowvar)\n",
            "/usr/local/lib/python3.7/dist-packages/numpy/lib/function_base.py:2480: RuntimeWarning: divide by zero encountered in true_divide\n",
            "  c *= np.true_divide(1, fact)\n"
          ]
        },
        {
          "output_type": "execute_result",
          "data": {
            "text/html": [
              "<div>\n",
              "<style scoped>\n",
              "    .dataframe tbody tr th:only-of-type {\n",
              "        vertical-align: middle;\n",
              "    }\n",
              "\n",
              "    .dataframe tbody tr th {\n",
              "        vertical-align: top;\n",
              "    }\n",
              "\n",
              "    .dataframe thead th {\n",
              "        text-align: right;\n",
              "    }\n",
              "</style>\n",
              "<table border=\"1\" class=\"dataframe\">\n",
              "  <thead>\n",
              "    <tr style=\"text-align: right;\">\n",
              "      <th></th>\n",
              "      <th>book_id</th>\n",
              "      <th>Correlation</th>\n",
              "      <th>title</th>\n",
              "    </tr>\n",
              "  </thead>\n",
              "  <tbody>\n",
              "    <tr>\n",
              "      <th>757</th>\n",
              "      <td>5898</td>\n",
              "      <td>1.0</td>\n",
              "      <td>The Lord of the Rings (The Lord of the Rings  ...</td>\n",
              "    </tr>\n",
              "    <tr>\n",
              "      <th>956</th>\n",
              "      <td>8891</td>\n",
              "      <td>1.0</td>\n",
              "      <td>Return to the Planet of the Apes:  Visions fro...</td>\n",
              "    </tr>\n",
              "    <tr>\n",
              "      <th>437</th>\n",
              "      <td>2706</td>\n",
              "      <td>1.0</td>\n",
              "      <td>Love Visions</td>\n",
              "    </tr>\n",
              "    <tr>\n",
              "      <th>318</th>\n",
              "      <td>1721</td>\n",
              "      <td>1.0</td>\n",
              "      <td>Ovid’s Metamorphoses: Books 6-10</td>\n",
              "    </tr>\n",
              "    <tr>\n",
              "      <th>660</th>\n",
              "      <td>4940</td>\n",
              "      <td>1.0</td>\n",
              "      <td>The Brothers Karamazov</td>\n",
              "    </tr>\n",
              "    <tr>\n",
              "      <th>834</th>\n",
              "      <td>7006</td>\n",
              "      <td>1.0</td>\n",
              "      <td>Hamlet</td>\n",
              "    </tr>\n",
              "    <tr>\n",
              "      <th>615</th>\n",
              "      <td>4399</td>\n",
              "      <td>1.0</td>\n",
              "      <td>The Grapes of Wrath</td>\n",
              "    </tr>\n",
              "    <tr>\n",
              "      <th>540</th>\n",
              "      <td>3604</td>\n",
              "      <td>1.0</td>\n",
              "      <td>Personal Finance for Dummies</td>\n",
              "    </tr>\n",
              "    <tr>\n",
              "      <th>909</th>\n",
              "      <td>7996</td>\n",
              "      <td>1.0</td>\n",
              "      <td>Redwall (Redwall  #1)</td>\n",
              "    </tr>\n",
              "    <tr>\n",
              "      <th>941</th>\n",
              "      <td>8694</td>\n",
              "      <td>1.0</td>\n",
              "      <td>Life  the Universe and Everything (Hitchhiker'...</td>\n",
              "    </tr>\n",
              "  </tbody>\n",
              "</table>\n",
              "</div>"
            ],
            "text/plain": [
              "     book_id  Correlation                                              title\n",
              "757     5898          1.0  The Lord of the Rings (The Lord of the Rings  ...\n",
              "956     8891          1.0  Return to the Planet of the Apes:  Visions fro...\n",
              "437     2706          1.0                                       Love Visions\n",
              "318     1721          1.0                   Ovid’s Metamorphoses: Books 6-10\n",
              "660     4940          1.0                             The Brothers Karamazov\n",
              "834     7006          1.0                                             Hamlet\n",
              "615     4399          1.0                                The Grapes of Wrath\n",
              "540     3604          1.0                       Personal Finance for Dummies\n",
              "909     7996          1.0                              Redwall (Redwall  #1)\n",
              "941     8694          1.0  Life  the Universe and Everything (Hitchhiker'..."
            ]
          },
          "metadata": {},
          "execution_count": 18
        }
      ]
    },
    {
      "cell_type": "markdown",
      "metadata": {
        "id": "7ohyJbNuxW5E"
      },
      "source": [
        "**<h3>Model 2 - KNN - Collaborative Filtering (Item-based)</h3>**"
      ]
    },
    {
      "cell_type": "code",
      "metadata": {
        "id": "1Cu_HBaQxdah"
      },
      "source": [
        "# Use sklearn to create a scipy matrix to make knn more efficient\n",
        "knn_pivot_table = most_pop_books_df.pivot_table(index='title', columns='user_id', values='rating').fillna(0)\n",
        "knn_matrix = csr_matrix(knn_pivot_table.values)"
      ],
      "execution_count": null,
      "outputs": []
    },
    {
      "cell_type": "code",
      "metadata": {
        "colab": {
          "base_uri": "https://localhost:8080/"
        },
        "id": "rung9f18lq1w",
        "outputId": "5afb3a2f-fc75-4f39-a732-c77090475534"
      },
      "source": [
        "# Create a KNN unsupervised classification model using the \n",
        "# brute algorithm and fit our model\n",
        "books_knn_model = NearestNeighbors(metric='cosine', algorithm='brute')\n",
        "books_knn_model.fit(knn_matrix)"
      ],
      "execution_count": null,
      "outputs": [
        {
          "output_type": "execute_result",
          "data": {
            "text/plain": [
              "NearestNeighbors(algorithm='brute', leaf_size=30, metric='cosine',\n",
              "                 metric_params=None, n_jobs=None, n_neighbors=5, p=2,\n",
              "                 radius=1.0)"
            ]
          },
          "metadata": {},
          "execution_count": 26
        }
      ]
    },
    {
      "cell_type": "code",
      "metadata": {
        "colab": {
          "base_uri": "https://localhost:8080/"
        },
        "id": "6gISFPR-_14z",
        "outputId": "da0960c5-84a9-47e0-e8a4-3ba902bfb285"
      },
      "source": [
        "knn_pivot_table.index[139:150]"
      ],
      "execution_count": null,
      "outputs": [
        {
          "output_type": "execute_result",
          "data": {
            "text/plain": [
              "Index(['The Iliad', 'The Kingdom of God Is Within You', 'The Known World',\n",
              "       'The Long Dark Tea-Time of the Soul (Dirk Gently  #2)',\n",
              "       'The Long Shadow (The Morland Dynasty  #6)',\n",
              "       'The Lord of the Rings (The Lord of the Rings  #1-3)',\n",
              "       'The Lord of the Rings: Complete Visual Companion',\n",
              "       'The Lord of the Rings: The Art of the Fellowship of the Ring',\n",
              "       'The Lord of the Rings: Weapons and Warfare',\n",
              "       'The Lost Continent: Travels in Small Town America',\n",
              "       'The Mother Tongue: English and How It Got That Way'],\n",
              "      dtype='object', name='title')"
            ]
          },
          "metadata": {},
          "execution_count": 59
        }
      ]
    },
    {
      "cell_type": "code",
      "metadata": {
        "colab": {
          "base_uri": "https://localhost:8080/"
        },
        "id": "FoTFokUqnQmb",
        "outputId": "c7935289-d17e-45aa-c46a-bacfcca783fb"
      },
      "source": [
        "# Test KNN model\n",
        "#test_book_index = np.random.choice(knn_pivot_table.shape[0])\n",
        "test_book_index = 139\n",
        "##print(f\"Test book id: {test_book_index}\")\n",
        "distances, indices = books_knn_model.kneighbors(knn_pivot_table.iloc[test_book_index, :].values.reshape(1, -1), n_neighbors = 6)\n",
        "\n",
        "# Check out the recommendations\n",
        "for i in range(0, len(distances.flatten())):\n",
        "  if i == 0:\n",
        "    print(f\"Recommendations for {knn_pivot_table.index[test_book_index]}\")\n",
        "  else:\n",
        "    print(f\"{i}: {knn_pivot_table.index[indices.flatten()[i]]}, with distance {distances.flatten()[i]}\")"
      ],
      "execution_count": null,
      "outputs": [
        {
          "output_type": "stream",
          "name": "stdout",
          "text": [
            "Recommendations for The Iliad\n",
            "1: Great Jones Street, with distance 0.8844422580203157\n",
            "2: The Kingdom of God Is Within You, with distance 0.8857918369127253\n",
            "3: Agile Web Development with Rails: A Pragmatic Guide, with distance 0.8860570834204622\n",
            "4: The Lord of the Rings (The Lord of the Rings  #1-3), with distance 0.8883419447696739\n",
            "5: Simply Beautiful Beading: 53 Quick and Easy Projects, with distance 0.8933857518508036\n"
          ]
        }
      ]
    },
    {
      "cell_type": "markdown",
      "metadata": {
        "id": "8cfCl8U0myOx"
      },
      "source": [
        "**<h3>Model 3 - KNN - Collaborative Filtering (User-based)</h3>**"
      ]
    },
    {
      "cell_type": "code",
      "metadata": {
        "id": "eMw7HwzBoPJd",
        "colab": {
          "base_uri": "https://localhost:8080/"
        },
        "outputId": "b67b73ca-4173-4b4b-81af-e31037c96b9f"
      },
      "source": [
        "# avg number of ratings given per book\n",
        "ratings_per_book = ratings_df.groupby('book_id')['rating'].count()\n",
        "statistics.mean(ratings_per_book.tolist())"
      ],
      "execution_count": null,
      "outputs": [
        {
          "output_type": "execute_result",
          "data": {
            "text/plain": [
              "134.88229997427322"
            ]
          },
          "metadata": {},
          "execution_count": 63
        }
      ]
    },
    {
      "cell_type": "code",
      "metadata": {
        "colab": {
          "base_uri": "https://localhost:8080/"
        },
        "id": "t69bxAO0LcTX",
        "outputId": "a34bda11-283a-49f8-cd77-ddec02113e58"
      },
      "source": [
        "# avg number of ratings given per user\n",
        "ratings_per_user = ratings_df.groupby('user_id')['rating'].count()\n",
        "statistics.mean(ratings_per_user.tolist())"
      ],
      "execution_count": null,
      "outputs": [
        {
          "output_type": "execute_result",
          "data": {
            "text/plain": [
              "79.90360435875942"
            ]
          },
          "metadata": {},
          "execution_count": 64
        }
      ]
    },
    {
      "cell_type": "code",
      "metadata": {
        "id": "exSEzJ58I9jL"
      },
      "source": [
        "# counts of ratings per book as a df\n",
        "ratings_per_book_df = pd.DataFrame(ratings_per_book)\n",
        "\n",
        "# remove if < 1000 ratings\n",
        "filtered_ratings_per_book_df = ratings_per_book_df[ratings_per_book_df.rating >= 1000]\n",
        "# build a list of book_ids to keep\n",
        "popular_books = filtered_ratings_per_book_df.index.tolist()"
      ],
      "execution_count": null,
      "outputs": []
    },
    {
      "cell_type": "code",
      "metadata": {
        "id": "uJbc05I83uxy"
      },
      "source": [
        "# counts ratings per user as a df\n",
        "ratings_per_user_df = pd.DataFrame(ratings_per_user)\n",
        "# remove if < 25\n",
        "filtered_ratings_per_user_df = ratings_per_user_df[ratings_per_user_df.rating >= 50]\n",
        "# build a list of user_ids to keep\n",
        "top_users = filtered_ratings_per_user_df.index.tolist()"
      ],
      "execution_count": null,
      "outputs": []
    },
    {
      "cell_type": "code",
      "metadata": {
        "colab": {
          "base_uri": "https://localhost:8080/"
        },
        "id": "eF7s6VViL0Nc",
        "outputId": "de98a6f0-5909-4b6c-fcb7-1ad6a147409d"
      },
      "source": [
        "# filter ratings by top users and most rated books\n",
        "filtered_ratings = ratings_df[ratings_df.book_id.isin(popular_books)]\n",
        "filtered_ratings = ratings_df[ratings_df.user_id.isin(top_users)]\n",
        "len(filtered_ratings)"
      ],
      "execution_count": null,
      "outputs": [
        {
          "output_type": "execute_result",
          "data": {
            "text/plain": [
              "956196"
            ]
          },
          "metadata": {},
          "execution_count": 67
        }
      ]
    },
    {
      "cell_type": "code",
      "metadata": {
        "colab": {
          "base_uri": "https://localhost:8080/",
          "height": 284
        },
        "id": "S9g7kpZXTEro",
        "outputId": "88130044-145f-49d6-a52d-5ee9c9be0ee9"
      },
      "source": [
        "# Create a rating matrix between users and books\n",
        "rating_matrix = filtered_ratings.pivot_table(index='user_id', columns='book_id', values='rating')\n",
        "# replace NaN values with 0\n",
        "rating_matrix = rating_matrix.fillna(0)\n",
        "# display the top few rows\n",
        "rating_matrix.head()"
      ],
      "execution_count": null,
      "outputs": [
        {
          "output_type": "execute_result",
          "data": {
            "text/html": [
              "<div>\n",
              "<style scoped>\n",
              "    .dataframe tbody tr th:only-of-type {\n",
              "        vertical-align: middle;\n",
              "    }\n",
              "\n",
              "    .dataframe tbody tr th {\n",
              "        vertical-align: top;\n",
              "    }\n",
              "\n",
              "    .dataframe thead th {\n",
              "        text-align: right;\n",
              "    }\n",
              "</style>\n",
              "<table border=\"1\" class=\"dataframe\">\n",
              "  <thead>\n",
              "    <tr style=\"text-align: right;\">\n",
              "      <th>book_id</th>\n",
              "      <th>1</th>\n",
              "      <th>2</th>\n",
              "      <th>3</th>\n",
              "      <th>4</th>\n",
              "      <th>5</th>\n",
              "      <th>6</th>\n",
              "      <th>7</th>\n",
              "      <th>8</th>\n",
              "      <th>9</th>\n",
              "      <th>10</th>\n",
              "      <th>11</th>\n",
              "      <th>12</th>\n",
              "      <th>13</th>\n",
              "      <th>14</th>\n",
              "      <th>15</th>\n",
              "      <th>16</th>\n",
              "      <th>17</th>\n",
              "      <th>18</th>\n",
              "      <th>19</th>\n",
              "      <th>20</th>\n",
              "      <th>21</th>\n",
              "      <th>22</th>\n",
              "      <th>23</th>\n",
              "      <th>24</th>\n",
              "      <th>25</th>\n",
              "      <th>26</th>\n",
              "      <th>27</th>\n",
              "      <th>28</th>\n",
              "      <th>29</th>\n",
              "      <th>30</th>\n",
              "      <th>31</th>\n",
              "      <th>32</th>\n",
              "      <th>33</th>\n",
              "      <th>34</th>\n",
              "      <th>35</th>\n",
              "      <th>36</th>\n",
              "      <th>37</th>\n",
              "      <th>38</th>\n",
              "      <th>39</th>\n",
              "      <th>40</th>\n",
              "      <th>...</th>\n",
              "      <th>9946</th>\n",
              "      <th>9948</th>\n",
              "      <th>9949</th>\n",
              "      <th>9951</th>\n",
              "      <th>9956</th>\n",
              "      <th>9957</th>\n",
              "      <th>9958</th>\n",
              "      <th>9960</th>\n",
              "      <th>9961</th>\n",
              "      <th>9962</th>\n",
              "      <th>9963</th>\n",
              "      <th>9965</th>\n",
              "      <th>9966</th>\n",
              "      <th>9967</th>\n",
              "      <th>9968</th>\n",
              "      <th>9972</th>\n",
              "      <th>9973</th>\n",
              "      <th>9974</th>\n",
              "      <th>9975</th>\n",
              "      <th>9976</th>\n",
              "      <th>9977</th>\n",
              "      <th>9978</th>\n",
              "      <th>9979</th>\n",
              "      <th>9980</th>\n",
              "      <th>9981</th>\n",
              "      <th>9984</th>\n",
              "      <th>9985</th>\n",
              "      <th>9986</th>\n",
              "      <th>9987</th>\n",
              "      <th>9988</th>\n",
              "      <th>9990</th>\n",
              "      <th>9991</th>\n",
              "      <th>9993</th>\n",
              "      <th>9994</th>\n",
              "      <th>9995</th>\n",
              "      <th>9996</th>\n",
              "      <th>9997</th>\n",
              "      <th>9998</th>\n",
              "      <th>9999</th>\n",
              "      <th>10000</th>\n",
              "    </tr>\n",
              "    <tr>\n",
              "      <th>user_id</th>\n",
              "      <th></th>\n",
              "      <th></th>\n",
              "      <th></th>\n",
              "      <th></th>\n",
              "      <th></th>\n",
              "      <th></th>\n",
              "      <th></th>\n",
              "      <th></th>\n",
              "      <th></th>\n",
              "      <th></th>\n",
              "      <th></th>\n",
              "      <th></th>\n",
              "      <th></th>\n",
              "      <th></th>\n",
              "      <th></th>\n",
              "      <th></th>\n",
              "      <th></th>\n",
              "      <th></th>\n",
              "      <th></th>\n",
              "      <th></th>\n",
              "      <th></th>\n",
              "      <th></th>\n",
              "      <th></th>\n",
              "      <th></th>\n",
              "      <th></th>\n",
              "      <th></th>\n",
              "      <th></th>\n",
              "      <th></th>\n",
              "      <th></th>\n",
              "      <th></th>\n",
              "      <th></th>\n",
              "      <th></th>\n",
              "      <th></th>\n",
              "      <th></th>\n",
              "      <th></th>\n",
              "      <th></th>\n",
              "      <th></th>\n",
              "      <th></th>\n",
              "      <th></th>\n",
              "      <th></th>\n",
              "      <th></th>\n",
              "      <th></th>\n",
              "      <th></th>\n",
              "      <th></th>\n",
              "      <th></th>\n",
              "      <th></th>\n",
              "      <th></th>\n",
              "      <th></th>\n",
              "      <th></th>\n",
              "      <th></th>\n",
              "      <th></th>\n",
              "      <th></th>\n",
              "      <th></th>\n",
              "      <th></th>\n",
              "      <th></th>\n",
              "      <th></th>\n",
              "      <th></th>\n",
              "      <th></th>\n",
              "      <th></th>\n",
              "      <th></th>\n",
              "      <th></th>\n",
              "      <th></th>\n",
              "      <th></th>\n",
              "      <th></th>\n",
              "      <th></th>\n",
              "      <th></th>\n",
              "      <th></th>\n",
              "      <th></th>\n",
              "      <th></th>\n",
              "      <th></th>\n",
              "      <th></th>\n",
              "      <th></th>\n",
              "      <th></th>\n",
              "      <th></th>\n",
              "      <th></th>\n",
              "      <th></th>\n",
              "      <th></th>\n",
              "      <th></th>\n",
              "      <th></th>\n",
              "      <th></th>\n",
              "      <th></th>\n",
              "    </tr>\n",
              "  </thead>\n",
              "  <tbody>\n",
              "    <tr>\n",
              "      <th>1</th>\n",
              "      <td>0.0</td>\n",
              "      <td>0.0</td>\n",
              "      <td>0.0</td>\n",
              "      <td>5.0</td>\n",
              "      <td>0.0</td>\n",
              "      <td>0.0</td>\n",
              "      <td>0.0</td>\n",
              "      <td>0.0</td>\n",
              "      <td>0.0</td>\n",
              "      <td>4.0</td>\n",
              "      <td>5.0</td>\n",
              "      <td>0.0</td>\n",
              "      <td>4.0</td>\n",
              "      <td>0.0</td>\n",
              "      <td>0.0</td>\n",
              "      <td>3.0</td>\n",
              "      <td>0.0</td>\n",
              "      <td>0.0</td>\n",
              "      <td>0.0</td>\n",
              "      <td>0.0</td>\n",
              "      <td>0.0</td>\n",
              "      <td>3.0</td>\n",
              "      <td>0.0</td>\n",
              "      <td>0.0</td>\n",
              "      <td>0.0</td>\n",
              "      <td>0.0</td>\n",
              "      <td>0.0</td>\n",
              "      <td>0.0</td>\n",
              "      <td>0.0</td>\n",
              "      <td>0.0</td>\n",
              "      <td>4.0</td>\n",
              "      <td>4.0</td>\n",
              "      <td>4.0</td>\n",
              "      <td>0.0</td>\n",
              "      <td>5.0</td>\n",
              "      <td>4.0</td>\n",
              "      <td>0.0</td>\n",
              "      <td>2.0</td>\n",
              "      <td>0.0</td>\n",
              "      <td>2.0</td>\n",
              "      <td>...</td>\n",
              "      <td>0.0</td>\n",
              "      <td>0.0</td>\n",
              "      <td>0.0</td>\n",
              "      <td>0.0</td>\n",
              "      <td>0.0</td>\n",
              "      <td>0.0</td>\n",
              "      <td>0.0</td>\n",
              "      <td>0.0</td>\n",
              "      <td>0.0</td>\n",
              "      <td>0.0</td>\n",
              "      <td>0.0</td>\n",
              "      <td>0.0</td>\n",
              "      <td>0.0</td>\n",
              "      <td>0.0</td>\n",
              "      <td>0.0</td>\n",
              "      <td>0.0</td>\n",
              "      <td>0.0</td>\n",
              "      <td>0.0</td>\n",
              "      <td>0.0</td>\n",
              "      <td>0.0</td>\n",
              "      <td>0.0</td>\n",
              "      <td>0.0</td>\n",
              "      <td>0.0</td>\n",
              "      <td>0.0</td>\n",
              "      <td>0.0</td>\n",
              "      <td>0.0</td>\n",
              "      <td>0.0</td>\n",
              "      <td>0.0</td>\n",
              "      <td>0.0</td>\n",
              "      <td>0.0</td>\n",
              "      <td>0.0</td>\n",
              "      <td>0.0</td>\n",
              "      <td>0.0</td>\n",
              "      <td>0.0</td>\n",
              "      <td>0.0</td>\n",
              "      <td>0.0</td>\n",
              "      <td>0.0</td>\n",
              "      <td>0.0</td>\n",
              "      <td>0.0</td>\n",
              "      <td>0.0</td>\n",
              "    </tr>\n",
              "    <tr>\n",
              "      <th>3</th>\n",
              "      <td>0.0</td>\n",
              "      <td>0.0</td>\n",
              "      <td>0.0</td>\n",
              "      <td>3.0</td>\n",
              "      <td>0.0</td>\n",
              "      <td>0.0</td>\n",
              "      <td>0.0</td>\n",
              "      <td>0.0</td>\n",
              "      <td>0.0</td>\n",
              "      <td>0.0</td>\n",
              "      <td>0.0</td>\n",
              "      <td>0.0</td>\n",
              "      <td>2.0</td>\n",
              "      <td>0.0</td>\n",
              "      <td>3.0</td>\n",
              "      <td>0.0</td>\n",
              "      <td>0.0</td>\n",
              "      <td>0.0</td>\n",
              "      <td>0.0</td>\n",
              "      <td>0.0</td>\n",
              "      <td>0.0</td>\n",
              "      <td>0.0</td>\n",
              "      <td>0.0</td>\n",
              "      <td>0.0</td>\n",
              "      <td>0.0</td>\n",
              "      <td>0.0</td>\n",
              "      <td>0.0</td>\n",
              "      <td>2.0</td>\n",
              "      <td>0.0</td>\n",
              "      <td>0.0</td>\n",
              "      <td>0.0</td>\n",
              "      <td>2.0</td>\n",
              "      <td>0.0</td>\n",
              "      <td>0.0</td>\n",
              "      <td>0.0</td>\n",
              "      <td>0.0</td>\n",
              "      <td>0.0</td>\n",
              "      <td>0.0</td>\n",
              "      <td>0.0</td>\n",
              "      <td>0.0</td>\n",
              "      <td>...</td>\n",
              "      <td>0.0</td>\n",
              "      <td>0.0</td>\n",
              "      <td>0.0</td>\n",
              "      <td>0.0</td>\n",
              "      <td>0.0</td>\n",
              "      <td>0.0</td>\n",
              "      <td>0.0</td>\n",
              "      <td>0.0</td>\n",
              "      <td>0.0</td>\n",
              "      <td>1.0</td>\n",
              "      <td>0.0</td>\n",
              "      <td>0.0</td>\n",
              "      <td>1.0</td>\n",
              "      <td>0.0</td>\n",
              "      <td>0.0</td>\n",
              "      <td>0.0</td>\n",
              "      <td>0.0</td>\n",
              "      <td>0.0</td>\n",
              "      <td>0.0</td>\n",
              "      <td>0.0</td>\n",
              "      <td>0.0</td>\n",
              "      <td>0.0</td>\n",
              "      <td>0.0</td>\n",
              "      <td>0.0</td>\n",
              "      <td>0.0</td>\n",
              "      <td>0.0</td>\n",
              "      <td>0.0</td>\n",
              "      <td>0.0</td>\n",
              "      <td>0.0</td>\n",
              "      <td>0.0</td>\n",
              "      <td>0.0</td>\n",
              "      <td>0.0</td>\n",
              "      <td>0.0</td>\n",
              "      <td>0.0</td>\n",
              "      <td>0.0</td>\n",
              "      <td>0.0</td>\n",
              "      <td>0.0</td>\n",
              "      <td>0.0</td>\n",
              "      <td>0.0</td>\n",
              "      <td>0.0</td>\n",
              "    </tr>\n",
              "    <tr>\n",
              "      <th>4</th>\n",
              "      <td>0.0</td>\n",
              "      <td>5.0</td>\n",
              "      <td>0.0</td>\n",
              "      <td>4.0</td>\n",
              "      <td>4.0</td>\n",
              "      <td>0.0</td>\n",
              "      <td>4.0</td>\n",
              "      <td>4.0</td>\n",
              "      <td>0.0</td>\n",
              "      <td>5.0</td>\n",
              "      <td>4.0</td>\n",
              "      <td>0.0</td>\n",
              "      <td>4.0</td>\n",
              "      <td>3.0</td>\n",
              "      <td>0.0</td>\n",
              "      <td>0.0</td>\n",
              "      <td>0.0</td>\n",
              "      <td>5.0</td>\n",
              "      <td>2.0</td>\n",
              "      <td>0.0</td>\n",
              "      <td>5.0</td>\n",
              "      <td>1.0</td>\n",
              "      <td>5.0</td>\n",
              "      <td>5.0</td>\n",
              "      <td>5.0</td>\n",
              "      <td>3.0</td>\n",
              "      <td>5.0</td>\n",
              "      <td>3.0</td>\n",
              "      <td>0.0</td>\n",
              "      <td>0.0</td>\n",
              "      <td>0.0</td>\n",
              "      <td>4.0</td>\n",
              "      <td>3.0</td>\n",
              "      <td>0.0</td>\n",
              "      <td>5.0</td>\n",
              "      <td>5.0</td>\n",
              "      <td>0.0</td>\n",
              "      <td>0.0</td>\n",
              "      <td>0.0</td>\n",
              "      <td>0.0</td>\n",
              "      <td>...</td>\n",
              "      <td>0.0</td>\n",
              "      <td>0.0</td>\n",
              "      <td>0.0</td>\n",
              "      <td>0.0</td>\n",
              "      <td>0.0</td>\n",
              "      <td>0.0</td>\n",
              "      <td>0.0</td>\n",
              "      <td>0.0</td>\n",
              "      <td>0.0</td>\n",
              "      <td>0.0</td>\n",
              "      <td>0.0</td>\n",
              "      <td>0.0</td>\n",
              "      <td>0.0</td>\n",
              "      <td>0.0</td>\n",
              "      <td>0.0</td>\n",
              "      <td>0.0</td>\n",
              "      <td>0.0</td>\n",
              "      <td>0.0</td>\n",
              "      <td>0.0</td>\n",
              "      <td>0.0</td>\n",
              "      <td>0.0</td>\n",
              "      <td>0.0</td>\n",
              "      <td>0.0</td>\n",
              "      <td>0.0</td>\n",
              "      <td>0.0</td>\n",
              "      <td>0.0</td>\n",
              "      <td>0.0</td>\n",
              "      <td>0.0</td>\n",
              "      <td>0.0</td>\n",
              "      <td>0.0</td>\n",
              "      <td>0.0</td>\n",
              "      <td>0.0</td>\n",
              "      <td>0.0</td>\n",
              "      <td>0.0</td>\n",
              "      <td>0.0</td>\n",
              "      <td>0.0</td>\n",
              "      <td>0.0</td>\n",
              "      <td>0.0</td>\n",
              "      <td>0.0</td>\n",
              "      <td>0.0</td>\n",
              "    </tr>\n",
              "    <tr>\n",
              "      <th>7</th>\n",
              "      <td>0.0</td>\n",
              "      <td>0.0</td>\n",
              "      <td>0.0</td>\n",
              "      <td>0.0</td>\n",
              "      <td>3.0</td>\n",
              "      <td>0.0</td>\n",
              "      <td>0.0</td>\n",
              "      <td>2.0</td>\n",
              "      <td>0.0</td>\n",
              "      <td>0.0</td>\n",
              "      <td>0.0</td>\n",
              "      <td>0.0</td>\n",
              "      <td>5.0</td>\n",
              "      <td>0.0</td>\n",
              "      <td>0.0</td>\n",
              "      <td>0.0</td>\n",
              "      <td>0.0</td>\n",
              "      <td>0.0</td>\n",
              "      <td>0.0</td>\n",
              "      <td>0.0</td>\n",
              "      <td>0.0</td>\n",
              "      <td>0.0</td>\n",
              "      <td>0.0</td>\n",
              "      <td>0.0</td>\n",
              "      <td>4.0</td>\n",
              "      <td>0.0</td>\n",
              "      <td>0.0</td>\n",
              "      <td>5.0</td>\n",
              "      <td>0.0</td>\n",
              "      <td>0.0</td>\n",
              "      <td>0.0</td>\n",
              "      <td>5.0</td>\n",
              "      <td>0.0</td>\n",
              "      <td>0.0</td>\n",
              "      <td>0.0</td>\n",
              "      <td>0.0</td>\n",
              "      <td>4.0</td>\n",
              "      <td>0.0</td>\n",
              "      <td>0.0</td>\n",
              "      <td>0.0</td>\n",
              "      <td>...</td>\n",
              "      <td>0.0</td>\n",
              "      <td>0.0</td>\n",
              "      <td>0.0</td>\n",
              "      <td>0.0</td>\n",
              "      <td>0.0</td>\n",
              "      <td>0.0</td>\n",
              "      <td>0.0</td>\n",
              "      <td>0.0</td>\n",
              "      <td>0.0</td>\n",
              "      <td>0.0</td>\n",
              "      <td>0.0</td>\n",
              "      <td>0.0</td>\n",
              "      <td>0.0</td>\n",
              "      <td>0.0</td>\n",
              "      <td>0.0</td>\n",
              "      <td>0.0</td>\n",
              "      <td>0.0</td>\n",
              "      <td>0.0</td>\n",
              "      <td>0.0</td>\n",
              "      <td>0.0</td>\n",
              "      <td>0.0</td>\n",
              "      <td>0.0</td>\n",
              "      <td>0.0</td>\n",
              "      <td>0.0</td>\n",
              "      <td>0.0</td>\n",
              "      <td>0.0</td>\n",
              "      <td>0.0</td>\n",
              "      <td>0.0</td>\n",
              "      <td>0.0</td>\n",
              "      <td>0.0</td>\n",
              "      <td>0.0</td>\n",
              "      <td>0.0</td>\n",
              "      <td>0.0</td>\n",
              "      <td>0.0</td>\n",
              "      <td>0.0</td>\n",
              "      <td>0.0</td>\n",
              "      <td>0.0</td>\n",
              "      <td>0.0</td>\n",
              "      <td>0.0</td>\n",
              "      <td>0.0</td>\n",
              "    </tr>\n",
              "    <tr>\n",
              "      <th>8</th>\n",
              "      <td>0.0</td>\n",
              "      <td>0.0</td>\n",
              "      <td>0.0</td>\n",
              "      <td>3.0</td>\n",
              "      <td>3.0</td>\n",
              "      <td>0.0</td>\n",
              "      <td>0.0</td>\n",
              "      <td>0.0</td>\n",
              "      <td>0.0</td>\n",
              "      <td>1.0</td>\n",
              "      <td>0.0</td>\n",
              "      <td>0.0</td>\n",
              "      <td>4.0</td>\n",
              "      <td>5.0</td>\n",
              "      <td>0.0</td>\n",
              "      <td>0.0</td>\n",
              "      <td>0.0</td>\n",
              "      <td>0.0</td>\n",
              "      <td>0.0</td>\n",
              "      <td>0.0</td>\n",
              "      <td>0.0</td>\n",
              "      <td>0.0</td>\n",
              "      <td>0.0</td>\n",
              "      <td>0.0</td>\n",
              "      <td>0.0</td>\n",
              "      <td>0.0</td>\n",
              "      <td>0.0</td>\n",
              "      <td>4.0</td>\n",
              "      <td>0.0</td>\n",
              "      <td>0.0</td>\n",
              "      <td>0.0</td>\n",
              "      <td>0.0</td>\n",
              "      <td>0.0</td>\n",
              "      <td>0.0</td>\n",
              "      <td>0.0</td>\n",
              "      <td>0.0</td>\n",
              "      <td>0.0</td>\n",
              "      <td>0.0</td>\n",
              "      <td>0.0</td>\n",
              "      <td>0.0</td>\n",
              "      <td>...</td>\n",
              "      <td>0.0</td>\n",
              "      <td>0.0</td>\n",
              "      <td>0.0</td>\n",
              "      <td>0.0</td>\n",
              "      <td>0.0</td>\n",
              "      <td>0.0</td>\n",
              "      <td>0.0</td>\n",
              "      <td>0.0</td>\n",
              "      <td>0.0</td>\n",
              "      <td>0.0</td>\n",
              "      <td>0.0</td>\n",
              "      <td>0.0</td>\n",
              "      <td>0.0</td>\n",
              "      <td>0.0</td>\n",
              "      <td>0.0</td>\n",
              "      <td>0.0</td>\n",
              "      <td>0.0</td>\n",
              "      <td>0.0</td>\n",
              "      <td>0.0</td>\n",
              "      <td>0.0</td>\n",
              "      <td>0.0</td>\n",
              "      <td>0.0</td>\n",
              "      <td>0.0</td>\n",
              "      <td>0.0</td>\n",
              "      <td>0.0</td>\n",
              "      <td>0.0</td>\n",
              "      <td>0.0</td>\n",
              "      <td>0.0</td>\n",
              "      <td>0.0</td>\n",
              "      <td>0.0</td>\n",
              "      <td>0.0</td>\n",
              "      <td>1.0</td>\n",
              "      <td>0.0</td>\n",
              "      <td>0.0</td>\n",
              "      <td>0.0</td>\n",
              "      <td>0.0</td>\n",
              "      <td>0.0</td>\n",
              "      <td>0.0</td>\n",
              "      <td>0.0</td>\n",
              "      <td>0.0</td>\n",
              "    </tr>\n",
              "  </tbody>\n",
              "</table>\n",
              "<p>5 rows × 7690 columns</p>\n",
              "</div>"
            ],
            "text/plain": [
              "book_id  1      2      3      4      5      ...  9996   9997   9998   9999   10000\n",
              "user_id                                     ...                                   \n",
              "1          0.0    0.0    0.0    5.0    0.0  ...    0.0    0.0    0.0    0.0    0.0\n",
              "3          0.0    0.0    0.0    3.0    0.0  ...    0.0    0.0    0.0    0.0    0.0\n",
              "4          0.0    5.0    0.0    4.0    4.0  ...    0.0    0.0    0.0    0.0    0.0\n",
              "7          0.0    0.0    0.0    0.0    3.0  ...    0.0    0.0    0.0    0.0    0.0\n",
              "8          0.0    0.0    0.0    3.0    3.0  ...    0.0    0.0    0.0    0.0    0.0\n",
              "\n",
              "[5 rows x 7690 columns]"
            ]
          },
          "metadata": {},
          "execution_count": 68
        }
      ]
    },
    {
      "cell_type": "code",
      "metadata": {
        "id": "-Uefnv0n8sPX"
      },
      "source": [
        "# Function returns similar users using knn cosine similarity algorithm\n",
        "def similar_users(user_id, matrix, k=3):\n",
        "    # create a user dataframes for comparison\n",
        "    user = matrix[matrix.index == user_id]\n",
        "    other_users = matrix[matrix.index != user_id]\n",
        "    \n",
        "    # calculate cosine similarity between user and each other user\n",
        "    similarities = cosine_similarity(user,other_users)[0].tolist()\n",
        "    \n",
        "    indices = other_users.index.tolist()\n",
        "    \n",
        "    # key/values pairs of user index and their similarity\n",
        "    index_similarity = dict(zip(indices, similarities))\n",
        "    \n",
        "    # sort by similarity\n",
        "    index_similarity_sorted = sorted(index_similarity.items(), key=operator.itemgetter(1))\n",
        "    index_similarity_sorted.reverse()\n",
        "    \n",
        "    # grab k users off the top\n",
        "    top_users_similarities = index_similarity_sorted[:k]\n",
        "    users = [u[0] for u in top_users_similarities]\n",
        "    \n",
        "    return users"
      ],
      "execution_count": null,
      "outputs": []
    },
    {
      "cell_type": "code",
      "metadata": {
        "colab": {
          "base_uri": "https://localhost:8080/"
        },
        "id": "yfI7lYI1A-1Z",
        "outputId": "c7c36139-5ef1-47ea-f9b8-56ee56674234"
      },
      "source": [
        "# Test similar users\n",
        "current_user = 1\n",
        "\n",
        "# try out a user\n",
        "similar_user_indices = similar_users(current_user, rating_matrix)\n",
        "\n",
        "print(similar_user_indices)"
      ],
      "execution_count": null,
      "outputs": [
        {
          "output_type": "stream",
          "name": "stdout",
          "text": [
            "[12490, 13746, 3987]\n"
          ]
        }
      ]
    },
    {
      "cell_type": "code",
      "metadata": {
        "id": "phzijcyLEgG1"
      },
      "source": [
        "# function that returns recommended books based on similar users\n",
        "def recommend_book(user_index, similar_user_indices, matrix, items=5):\n",
        "    \n",
        "    # load vectors for similar users\n",
        "    similar_users = matrix[matrix.index.isin(similar_user_indices)]\n",
        "    # calc avg ratings across the 3 similar users\n",
        "    similar_users = similar_users.mean(axis=0)\n",
        "    # convert to dataframe so its easy to sort and filter\n",
        "    similar_users_df = pd.DataFrame(similar_users, columns=['mean'])\n",
        "    \n",
        "    \n",
        "    # load vector for the current user\n",
        "    user_df = matrix[matrix.index == user_index]\n",
        "    # transpose it so its easier to filter\n",
        "    user_df_transposed = user_df.transpose()\n",
        "    # rename the column as 'rating'\n",
        "    user_df_transposed.columns = ['rating']\n",
        "    # remove any rows without a 0 value. Anime not watched yet\n",
        "    user_df_transposed = user_df_transposed[user_df_transposed['rating']==0]\n",
        "    # generate a list of animes the user has not seen\n",
        "    books_unseen = user_df_transposed.index.tolist()\n",
        "    \n",
        "    # filter avg ratings of similar users for only anime the current user has not seen\n",
        "    similar_users_df_filtered = similar_users_df[similar_users_df.index.isin(books_unseen)]\n",
        "    # order the dataframe\n",
        "    similar_users_df_ordered = similar_users_df.sort_values(by=['mean'], ascending=False)\n",
        "    # grab the top n anime   \n",
        "    top_n_books = similar_users_df_ordered.head(items)\n",
        "    top_n_books_indices = top_n_books.index.tolist()\n",
        "    # lookup these anime in the other dataframe to find names\n",
        "    book_information = books_df[books_df['book_id'].isin(top_n_books_indices)]\n",
        "    \n",
        "    return book_information"
      ],
      "execution_count": null,
      "outputs": []
    },
    {
      "cell_type": "code",
      "metadata": {
        "colab": {
          "base_uri": "https://localhost:8080/",
          "height": 142
        },
        "id": "loquhhCmHqPK",
        "outputId": "c3394cd0-f612-4c7a-ef4a-156bfbf3b932"
      },
      "source": [
        "# Test user-based recommender\n",
        "df = recommend_book(1, similar_user_indices, rating_matrix)\n",
        "df[['book_id', 'title', 'ratings_count']]"
      ],
      "execution_count": null,
      "outputs": [
        {
          "output_type": "execute_result",
          "data": {
            "text/html": [
              "<div>\n",
              "<style scoped>\n",
              "    .dataframe tbody tr th:only-of-type {\n",
              "        vertical-align: middle;\n",
              "    }\n",
              "\n",
              "    .dataframe tbody tr th {\n",
              "        vertical-align: top;\n",
              "    }\n",
              "\n",
              "    .dataframe thead th {\n",
              "        text-align: right;\n",
              "    }\n",
              "</style>\n",
              "<table border=\"1\" class=\"dataframe\">\n",
              "  <thead>\n",
              "    <tr style=\"text-align: right;\">\n",
              "      <th></th>\n",
              "      <th>book_id</th>\n",
              "      <th>title</th>\n",
              "      <th>ratings_count</th>\n",
              "    </tr>\n",
              "  </thead>\n",
              "  <tbody>\n",
              "    <tr>\n",
              "      <th>23</th>\n",
              "      <td>35</td>\n",
              "      <td>The Lord of the Rings (The Lord of the Rings  ...</td>\n",
              "      <td>1618</td>\n",
              "    </tr>\n",
              "    <tr>\n",
              "      <th>26</th>\n",
              "      <td>45</td>\n",
              "      <td>Agile Web Development with Rails: A Pragmatic ...</td>\n",
              "      <td>1430</td>\n",
              "    </tr>\n",
              "    <tr>\n",
              "      <th>59</th>\n",
              "      <td>103</td>\n",
              "      <td>God Emperor of Dune (Dune Chronicles  #4)</td>\n",
              "      <td>2785</td>\n",
              "    </tr>\n",
              "  </tbody>\n",
              "</table>\n",
              "</div>"
            ],
            "text/plain": [
              "    book_id                                              title  ratings_count\n",
              "23       35  The Lord of the Rings (The Lord of the Rings  ...           1618\n",
              "26       45  Agile Web Development with Rails: A Pragmatic ...           1430\n",
              "59      103          God Emperor of Dune (Dune Chronicles  #4)           2785"
            ]
          },
          "metadata": {},
          "execution_count": 84
        }
      ]
    },
    {
      "cell_type": "markdown",
      "metadata": {
        "id": "Pi_jt4GOUeBy"
      },
      "source": [
        "**<h3>Model 4 - Content Based Filtering</h3>**\n",
        "\n"
      ]
    },
    {
      "cell_type": "code",
      "metadata": {
        "colab": {
          "base_uri": "https://localhost:8080/"
        },
        "id": "jgZL8dE1XdEo",
        "outputId": "80565be2-17a8-4d62-a43d-00969a0803a7"
      },
      "source": [
        "tfidf = TfidfVectorizer(stop_words='english')\n",
        "# Construct the required TF-IDF matrix by applying the fit_transform method on the overview feature\n",
        "overview_matrix = tfidf.fit_transform(books_df['title'])\n",
        "# Output the shape of tfidf_matrix\n",
        "overview_matrix.shape"
      ],
      "execution_count": null,
      "outputs": [
        {
          "output_type": "execute_result",
          "data": {
            "text/plain": [
              "(10000, 10436)"
            ]
          },
          "metadata": {},
          "execution_count": 74
        }
      ]
    },
    {
      "cell_type": "code",
      "metadata": {
        "colab": {
          "base_uri": "https://localhost:8080/"
        },
        "id": "mhVQLhI-jbkH",
        "outputId": "65feaa5e-7e0a-40a7-8a25-fdb4e2665c5a"
      },
      "source": [
        "similarity_matrix = linear_kernel(overview_matrix,overview_matrix)\n",
        "similarity_matrix"
      ],
      "execution_count": null,
      "outputs": [
        {
          "output_type": "execute_result",
          "data": {
            "text/plain": [
              "array([[1.        , 0.71072106, 0.71191747, ..., 0.        , 0.        ,\n",
              "        0.        ],\n",
              "       [0.71072106, 1.        , 0.72929155, ..., 0.        , 0.        ,\n",
              "        0.        ],\n",
              "       [0.71191747, 0.72929155, 1.        , ..., 0.        , 0.        ,\n",
              "        0.        ],\n",
              "       ...,\n",
              "       [0.        , 0.        , 0.        , ..., 1.        , 0.        ,\n",
              "        0.        ],\n",
              "       [0.        , 0.        , 0.        , ..., 0.        , 1.        ,\n",
              "        0.        ],\n",
              "       [0.        , 0.        , 0.        , ..., 0.        , 0.        ,\n",
              "        1.        ]])"
            ]
          },
          "metadata": {},
          "execution_count": 75
        }
      ]
    },
    {
      "cell_type": "code",
      "metadata": {
        "colab": {
          "base_uri": "https://localhost:8080/"
        },
        "id": "ncOKVlmwjo0T",
        "outputId": "62e0e0c8-527d-45ac-efbd-4a352e89fc65"
      },
      "source": [
        "# movies index mapping\n",
        "mapping = pd.Series(books_df.index,index = books_df['title'])\n",
        "mapping"
      ],
      "execution_count": null,
      "outputs": [
        {
          "output_type": "execute_result",
          "data": {
            "text/plain": [
              "title\n",
              "Harry Potter and the Half-Blood Prince (Harry Potter  #6)          0\n",
              "Harry Potter and the Order of the Phoenix (Harry Potter  #5)       1\n",
              "Harry Potter and the Chamber of Secrets (Harry Potter  #2)         2\n",
              "Harry Potter and the Prisoner of Azkaban (Harry Potter  #3)        3\n",
              "Harry Potter Boxed Set  Books 1-5 (Harry Potter  #1-5)             4\n",
              "                                                                ... \n",
              "Expelled from Eden: A William T. Vollmann Reader                9995\n",
              "You Bright and Risen Angels                                     9996\n",
              "The Ice-Shirt (Seven Dreams #1)                                 9997\n",
              "Poor People                                                     9998\n",
              "Las aventuras de Tom Sawyer                                     9999\n",
              "Length: 10000, dtype: int64"
            ]
          },
          "metadata": {},
          "execution_count": 76
        }
      ]
    },
    {
      "cell_type": "code",
      "metadata": {
        "id": "RKfKp-c_j0CD"
      },
      "source": [
        "# Function to recommend books based on cosine-similarity\n",
        "def recommend_books_based_on_title(book_input):\n",
        "  book_index = mapping[book_input]\n",
        "\n",
        "  #get similarity values with other books\n",
        "  #similarity_score is the list of index and similarity matrix\n",
        "  similarity_score = list(enumerate(similarity_matrix[book_index]))\n",
        "\n",
        "  #sort in descending order the similarity score of book inputted with all the other books\n",
        "  similarity_score = sorted(similarity_score, key=lambda x: x[1].any(), reverse=True)\n",
        "\n",
        "  # Get the scores of the 15 most similar books. Ignore the first book.\n",
        "  similarity_score = similarity_score[1:15]\n",
        "\n",
        "  #return movie names using the mapping series\n",
        "  book_indices = [i[0] for i in similarity_score]\n",
        "  return (books_df['title'].iloc[book_indices])"
      ],
      "execution_count": null,
      "outputs": []
    },
    {
      "cell_type": "code",
      "metadata": {
        "colab": {
          "base_uri": "https://localhost:8080/"
        },
        "id": "CxYMnJVykVQ6",
        "outputId": "3acd8c60-1da0-4699-a0d2-9a6ee3fdd77f"
      },
      "source": [
        "recommend_books_based_on_title('The Iliad')"
      ],
      "execution_count": null,
      "outputs": [
        {
          "output_type": "execute_result",
          "data": {
            "text/plain": [
              "1    Harry Potter and the Order of the Phoenix (Har...\n",
              "2    Harry Potter and the Chamber of Secrets (Harry...\n",
              "3    Harry Potter and the Prisoner of Azkaban (Harr...\n",
              "4    Harry Potter Boxed Set  Books 1-5 (Harry Potte...\n",
              "5    Unauthorized Harry Potter Book Seven News: \"Ha...\n",
              "6         Harry Potter Collection (Harry Potter  #1-6)\n",
              "7    The Ultimate Hitchhiker's Guide: Five Complete...\n",
              "8    The Ultimate Hitchhiker's Guide to the Galaxy ...\n",
              "Name: title, dtype: object"
            ]
          },
          "metadata": {},
          "execution_count": 78
        }
      ]
    },
    {
      "cell_type": "code",
      "metadata": {
        "colab": {
          "base_uri": "https://localhost:8080/"
        },
        "id": "sIrUmvoWpZUU",
        "outputId": "91bfa739-b0eb-4184-d651-3a27dbeeeff2"
      },
      "source": [
        "recommend_books_based_on_title('Treasure Island')"
      ],
      "execution_count": null,
      "outputs": [
        {
          "output_type": "execute_result",
          "data": {
            "text/plain": [
              "1    Harry Potter and the Order of the Phoenix (Har...\n",
              "2    Harry Potter and the Chamber of Secrets (Harry...\n",
              "3    Harry Potter and the Prisoner of Azkaban (Harr...\n",
              "4    Harry Potter Boxed Set  Books 1-5 (Harry Potte...\n",
              "Name: title, dtype: object"
            ]
          },
          "metadata": {},
          "execution_count": 165
        }
      ]
    },
    {
      "cell_type": "code",
      "metadata": {
        "colab": {
          "base_uri": "https://localhost:8080/"
        },
        "id": "o8ZN9Cciqo36",
        "outputId": "fd45f7bc-2c32-4eea-9a81-5bddb9805c52"
      },
      "source": [
        "recommend_books_based_on_title('Of Mice and Men')"
      ],
      "execution_count": null,
      "outputs": [
        {
          "output_type": "execute_result",
          "data": {
            "text/plain": [
              "325               Men Are from Mars  Women Are from Venus\n",
              "327               Men Are from Mars  Women Are from Venus\n",
              "500                            The Men Who Stare at Goats\n",
              "527                   Little Women  Little Men  Jo's Boys\n",
              "1238                  Three Men in a Boat (Three Men  #1)\n",
              "1239                                  Three Men in a Boat\n",
              "1240      Three Men in a Boat and Three Men on the Bummel\n",
              "1416                                   All the King's Men\n",
              "1417          Cliffs notes on Warren's All the King's Men\n",
              "1418             All the King's Men: Three Stage Versions\n",
              "1419    Men's Health: Book of Muscle - The World's Mos...\n",
              "1650    Why Do Men Fall Asleep After Sex? More Questio...\n",
              "1685                    Brief Interviews with Hideous Men\n",
              "2373    Men Who Hate Women and the Women Who Love Them...\n",
              "Name: title, dtype: object"
            ]
          },
          "metadata": {},
          "execution_count": 169
        }
      ]
    },
    {
      "cell_type": "code",
      "metadata": {
        "id": "9TyHVVV9kuU2"
      },
      "source": [
        "#books_df['title'][235:275]"
      ],
      "execution_count": null,
      "outputs": []
    },
    {
      "cell_type": "code",
      "metadata": {
        "id": "Uw9e2xB7pTV2"
      },
      "source": [
        ""
      ],
      "execution_count": null,
      "outputs": []
    }
  ]
}